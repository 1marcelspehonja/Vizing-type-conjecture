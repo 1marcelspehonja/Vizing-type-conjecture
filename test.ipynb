{
 "cells": [
  {
   "cell_type": "code",
   "execution_count": 1,
   "metadata": {
    "collapsed": false
   },
   "outputs": [
   ],
   "source": [
    "def graf(prvi, drugi, k):\n",
    "\n",
    "    poln_graf = graphs.CompleteGraph(k)\n",
    "\n",
    "    kartezijski_prvega_in_polnega = prvi.cartesian_product(poln_graf)\n",
    "    kartezijski_drugega_in_polnega = drugi.cartesian_product(poln_graf)\n",
    "\n",
    "    kartezijski_prvega_in_drugega = drugi.cartesian_product(prvi)\n",
    "    kartezijski_kartezijskega = kartezijski_prvega_in_drugega.cartesian_product(poln_graf)\n",
    "\n",
    "    krt_prvega = kartezijski_prvega_in_polnega.dominating_set(value_only=True, total=True)\n",
    "    krt_drugega = kartezijski_drugega_in_polnega.dominating_set(value_only=True, total=True)\n",
    "    krt_obeh = kartezijski_kartezijskega.dominating_set(value_only=True, total=True)\n",
    "\n",
    "    return (krt_prvega * krt_drugega) / krt_obeh\n",
    "    #return (krt_prvega * krt_drugega) / krt_obeh, krt_prvega, krt_drugega, krt_obeh"
   ]
  },
  {
   "cell_type": "code",
   "execution_count": 18,
   "metadata": {
    "collapsed": false
   },
   "outputs": [
   ],
   "source": [
    "t = []\n",
    "for G in graphs.nauty_geng('5 -c'):\n",
    "    #G.show()\n",
    "    #G.adjacency_matrix()\n",
    "    t.append(G)"
   ]
  },
  {
   "cell_type": "code",
   "execution_count": 3,
   "metadata": {
    "collapsed": false
   },
   "outputs": [
    {
     "data": {
      "text/plain": [
       "112"
      ]
     },
     "execution_count": 3,
     "metadata": {
     },
     "output_type": "execute_result"
    }
   ],
   "source": [
    "t2 = []\n",
    "for G in graphs.nauty_geng('2 -c'):\n",
    "    t2.append(G)\n",
    "t3 = []\n",
    "for G in graphs.nauty_geng('3 -c'):\n",
    "    t3.append(G)\n",
    "t4 = []\n",
    "for G in graphs.nauty_geng('4 -c'):\n",
    "    t4.append(G)\n",
    "t5 = []\n",
    "for G in graphs.nauty_geng('5 -c'):\n",
    "    t5.append(G)\n",
    "t6 = []\n",
    "for G in graphs.nauty_geng('6 -c'):\n",
    "    t6.append(G)\n",
    "    \n",
    "do6 = t2 + t3 + t4 + t5 + t6\n",
    "do5 = t2 + t3 + t4 + t5\n",
    "do4 = t2 + t3 + t4 \n",
    "do3 = t2 + t3\n",
    "len(t6)"
   ]
  },
  {
   "cell_type": "code",
   "execution_count": 7,
   "metadata": {
    "collapsed": false,
    "scrolled": true
   },
   "outputs": [
    {
     "ename": "KeyboardInterrupt",
     "evalue": "",
     "output_type": "error",
     "traceback": [
      "\u001b[0;31m---------------------------------------------------------------------------\u001b[0m",
      "\u001b[0;31mKeyboardInterrupt\u001b[0m                         Traceback (most recent call last)",
      "\u001b[0;32m/ext/sage/sage-8.9_1804/local/lib/python2.7/site-packages/IPython/core/interactiveshell.pyc\u001b[0m in \u001b[0;36mrun_code\u001b[0;34m(self, code_obj, result)\u001b[0m\n\u001b[1;32m   2879\u001b[0m             \u001b[0;32mfinally\u001b[0m\u001b[0;34m:\u001b[0m\u001b[0;34m\u001b[0m\u001b[0m\n\u001b[1;32m   2880\u001b[0m                 \u001b[0;31m# Reset our crash handler in place\u001b[0m\u001b[0;34m\u001b[0m\u001b[0;34m\u001b[0m\u001b[0m\n\u001b[0;32m-> 2881\u001b[0;31m                 \u001b[0msys\u001b[0m\u001b[0;34m.\u001b[0m\u001b[0mexcepthook\u001b[0m \u001b[0;34m=\u001b[0m \u001b[0mold_excepthook\u001b[0m\u001b[0;34m\u001b[0m\u001b[0m\n\u001b[0m\u001b[1;32m   2882\u001b[0m         \u001b[0;32mexcept\u001b[0m \u001b[0mSystemExit\u001b[0m \u001b[0;32mas\u001b[0m \u001b[0me\u001b[0m\u001b[0;34m:\u001b[0m\u001b[0;34m\u001b[0m\u001b[0m\n\u001b[1;32m   2883\u001b[0m             \u001b[0;32mif\u001b[0m \u001b[0mresult\u001b[0m \u001b[0;32mis\u001b[0m \u001b[0;32mnot\u001b[0m \u001b[0mNone\u001b[0m\u001b[0;34m:\u001b[0m\u001b[0;34m\u001b[0m\u001b[0m\n",
      "\u001b[0;32msrc/cysignals/signals.pyx\u001b[0m in \u001b[0;36mcysignals.signals.python_check_interrupt\u001b[0;34m()\u001b[0m\n",
      "\u001b[0;31mKeyboardInterrupt\u001b[0m: "
     ]
    }
   ],
   "source": [
    "k2 = 2\n",
    "s2 = []\n",
    "for i in range(0, len(do6)):\n",
    "    for j in range(i, len(do6)):\n",
    "        s2.append((k2, i, j, graf(do6[i], do6[j], k2)))\n",
    "print s2\n",
    "#ta s se je računal 1 uro točno\n"
   ]
  },
  {
   "cell_type": "code",
   "execution_count": 0,
   "metadata": {
    "collapsed": false
   },
   "outputs": [
   ],
   "source": [
    "#za k=3\n",
    "k3 = 3\n",
    "s3 = []\n",
    "for i in range(0, len(do6)):\n",
    "    for j in range(i, len(do6)):\n",
    "        s3.append((k3, i, j, graf(do6[i], do6[j], k3)))\n",
    "print s3"
   ]
  },
  {
   "cell_type": "code",
   "execution_count": 0,
   "metadata": {
    "collapsed": false
   },
   "outputs": [
   ],
   "source": [
    "#za k=4\n",
    "k4 = 4\n",
    "s4 = []\n",
    "for i in range(0, len(do6-t6)):\n",
    "    for j in range(i, len(do6-t6)):\n",
    "        s4.append((k4, i, j, graf((do6-t6)[i], (do6-t6)[j], k4)))\n",
    "print s4"
   ]
  },
  {
   "cell_type": "code",
   "execution_count": 0,
   "metadata": {
    "collapsed": false
   },
   "outputs": [
   ],
   "source": [
    "#te grafi majo tist koeficient enak 2 velja enakost med L in D\n",
    "r = []\n",
    "for i in range(len(p)):\n",
    "    if s[i][3] == 2:\n",
    "        r.append((s[i][1],s[i][2]))\n",
    "        \n",
    "for j in range(len(r)):\n",
    "    print(do6[r[j][0]].adjacency_matrix(), do6[r[j][1]].show())\n",
    "\n",
    "#grafi na 2 do 6 vozliščih, k = 2, velja enakost"
   ]
  },
  {
   "cell_type": "code",
   "execution_count": 14,
   "metadata": {
    "collapsed": false
   },
   "outputs": [
   ],
   "source": [
    "from sage.graphs.trees import TreeIterator\n",
    "\n",
    "#k-polni grafi\n",
    "K = []\n",
    "for i in range(2, 21):\n",
    "    K.append(graphs.CompleteGraph(i))\n",
    "\n",
    "#zaloga dreves\n",
    "#neizomorfnih dreves na 10 vozliščih je 106, na 11 vozliščih pa že 235\n",
    "T = []\n",
    "for i in range(11, 12):\n",
    "    for t in TreeIterator(i):\n",
    "        T.append(t)"
   ]
  },
  {
   "cell_type": "code",
   "execution_count": 5,
   "metadata": {
    "collapsed": false
   },
   "outputs": [
    {
     "name": "stdout",
     "output_type": "stream",
     "text": [
      "[(2, 0, 0, 2/5), (2, 0, 1, 4/5), (2, 0, 2, 2/5), (2, 0, 3, 4/5), (2, 0, 4, 4/5), (2, 0, 5, 2/5), (2, 0, 6, 4/5), (2, 0, 7, 4/9), (2, 0, 8, 4/5), (2, 0, 9, 4/5), (2, 0, 10, 4/9), (2, 0, 11, 4/5), (2, 0, 12, 4/5), (2, 0, 13, 4/9), (2, 0, 14, 4/5), (2, 0, 15, 2/5), (2, 0, 16, 4/9), (2, 0, 17, 4/5), (2, 0, 18, 4/9), (2, 0, 19, 4/9), (2, 0, 20, 4/9), (2, 1, 1, 4/3), (2, 1, 2, 4/5), (2, 1, 3, 4/3), (2, 1, 4, 4/3), (2, 1, 5, 4/5), (2, 1, 6, 8/5), (2, 1, 7, 4/5), (2, 1, 8, 8/7), (2, 1, 9, 4/3), (2, 1, 10, 4/5), (2, 1, 11, 16/13), (2, 1, 12, 4/3), (2, 1, 13, 4/5), (2, 1, 14, 8/5), (2, 1, 15, 4/5), (2, 1, 16, 4/5), (2, 1, 17, 8/5), (2, 1, 18, 4/5), (2, 1, 19, 4/5), (2, 1, 20, 4/5), (2, 2, 2, 2/5), (2, 2, 3, 4/5), (2, 2, 4, 4/5), (2, 2, 5, 2/5), (2, 2, 6, 4/5), (2, 2, 7, 4/9), (2, 2, 8, 4/5), (2, 2, 9, 4/5), (2, 2, 10, 4/9), (2, 2, 11, 4/5), (2, 2, 12, 4/5), (2, 2, 13, 4/9), (2, 2, 14, 4/5), (2, 2, 15, 2/5), (2, 2, 16, 4/9), (2, 2, 17, 4/5), (2, 2, 18, 4/9), (2, 2, 19, 4/9), (2, 2, 20, 4/9), (2, 3, 3, 4/3), (2, 3, 4, 4/3), (2, 3, 5, 4/5), (2, 3, 6, 8/5), (2, 3, 7, 4/5), (2, 3, 8, 4/3), (2, 3, 9, 8/5), (2, 3, 10, 4/5), (2, 3, 11, 4/3), (2, 3, 12, 8/5), (2, 3, 13, 4/5), (2, 3, 14, 8/5), (2, 3, 15, 4/5), (2, 3, 16, 4/5), (2, 3, 17, 8/5), (2, 3, 18, 4/5), (2, 3, 19, 4/5), (2, 3, 20, 4/5), (2, 4, 4, 8/5), (2, 4, 5, 4/5), (2, 4, 6, 8/5), (2, 4, 7, 4/5), (2, 4, 8, 4/3), (2, 4, 9, 4/3), (2, 4, 10, 4/5), (2, 4, 11, 4/3), (2, 4, 12, 8/5), (2, 4, 13, 4/5), (2, 4, 14, 8/5), (2, 4, 15, 4/5), (2, 4, 16, 4/5), (2, 4, 17, 8/5), (2, 4, 18, 4/5), (2, 4, 19, 4/5), (2, 4, 20, 4/5), (2, 5, 5, 2/5), (2, 5, 6, 4/5), (2, 5, 7, 4/9), (2, 5, 8, 4/5), (2, 5, 9, 4/5), (2, 5, 10, 4/9), (2, 5, 11, 4/5), (2, 5, 12, 4/5), (2, 5, 13, 4/9), (2, 5, 14, 4/5), (2, 5, 15, 2/5), (2, 5, 16, 4/9), (2, 5, 17, 4/5), (2, 5, 18, 4/9), (2, 5, 19, 4/9), (2, 5, 20, 4/9), (2, 6, 6, 8/5), (2, 6, 7, 8/9), (2, 6, 8, 8/5), (2, 6, 9, 8/5), (2, 6, 10, 8/9), (2, 6, 11, 8/5), (2, 6, 12, 8/5), (2, 6, 13, 8/9), (2, 6, 14, 8/5), (2, 6, 15, 4/5), (2, 6, 16, 8/9), (2, 6, 17, 8/5), (2, 6, 18, 8/9), (2, 6, 19, 8/9), (2, 6, 20, 8/9), (2, 7, 7, 1/2), (2, 7, 8, 4/5), (2, 7, 9, 8/9), (2, 7, 10, 1/2), (2, 7, 11, 4/5), (2, 7, 12, 8/9), (2, 7, 13, 1/2), (2, 7, 14, 8/9), (2, 7, 15, 4/9), (2, 7, 16, 1/2), (2, 7, 17, 8/9), (2, 7, 18, 1/2), (2, 7, 19, 1/2), (2, 7, 20, 1/2), (2, 8, 8, 8/7), (2, 8, 9, 16/13), (2, 8, 10, 4/5), (2, 8, 11, 4/3), (2, 8, 12, 8/5), (2, 8, 13, 4/5), (2, 8, 14, 4/3), (2, 8, 15, 4/5), (2, 8, 16, 4/5), (2, 8, 17, 8/5), (2, 8, 18, 4/5), (2, 8, 19, 4/5), (2, 8, 20, 4/5), (2, 9, 9, 4/3), (2, 9, 10, 8/9), (2, 9, 11, 4/3), (2, 9, 12, 8/5), (2, 9, 13, 8/9), (2, 9, 14, 8/5), (2, 9, 15, 4/5), (2, 9, 16, 8/9), (2, 9, 17, 8/5), (2, 9, 18, 8/9), (2, 9, 19, 8/9), (2, 9, 20, 8/9), (2, 10, 10, 1/2), (2, 10, 11, 4/5), (2, 10, 12, 8/9), (2, 10, 13, 1/2), (2, 10, 14, 8/9), (2, 10, 15, 4/9), (2, 10, 16, 1/2), (2, 10, 17, 8/9), (2, 10, 18, 1/2), (2, 10, 19, 1/2), (2, 10, 20, 1/2), (2, 11, 11, 8/5), (2, 11, 12, 8/5), (2, 11, 13, 4/5), (2, 11, 14, 16/11), (2, 11, 15, 4/5), (2, 11, 16, 4/5), (2, 11, 17, 8/5), (2, 11, 18, 4/5), (2, 11, 19, 4/5), (2, 11, 20, 4/5), (2, 12, 12, 8/5), (2, 12, 13, 8/9), (2, 12, 14, 8/5), (2, 12, 15, 4/5), (2, 12, 16, 8/9), (2, 12, 17, 8/5), (2, 12, 18, 8/9), (2, 12, 19, 8/9), (2, 12, 20, 8/9), (2, 13, 13, 1/2), (2, 13, 14, 8/9), (2, 13, 15, 4/9), (2, 13, 16, 1/2), (2, 13, 17, 8/9), (2, 13, 18, 1/2), (2, 13, 19, 1/2), (2, 13, 20, 1/2), (2, 14, 14, 8/5), (2, 14, 15, 4/5), (2, 14, 16, 8/9), (2, 14, 17, 8/5), (2, 14, 18, 8/9), (2, 14, 19, 8/9), (2, 14, 20, 8/9), (2, 15, 15, 2/5), (2, 15, 16, 4/9), (2, 15, 17, 4/5), (2, 15, 18, 4/9), (2, 15, 19, 4/9), (2, 15, 20, 4/9), (2, 16, 16, 1/2), (2, 16, 17, 8/9), (2, 16, 18, 1/2), (2, 16, 19, 1/2), (2, 16, 20, 1/2), (2, 17, 17, 8/5), (2, 17, 18, 8/9), (2, 17, 19, 8/9), (2, 17, 20, 8/9), (2, 18, 18, 1/2), (2, 18, 19, 1/2), (2, 18, 20, 1/2), (2, 19, 19, 1/2), (2, 19, 20, 1/2), (2, 20, 20, 1/2)]\n"
     ]
    }
   ],
   "source": [
    "k = 2\n",
    "seznam_grafov = t5\n",
    "s2 = []\n",
    "for i in range(0, len(seznam_grafov)):\n",
    "    for j in range(i, len(seznam_grafov)):\n",
    "        s2.append((k, i, j, graf(seznam_grafov[i], seznam_grafov[j], k)))\n",
    "        \n",
    "print s2\n",
    "\n",
    "#algoritem poda seznam resitev (k, prvi_graf, drugi_graf, iskan_koeficient)"
   ]
  },
  {
   "cell_type": "code",
   "execution_count": 7,
   "metadata": {
    "collapsed": false
   },
   "outputs": [
    {
     "name": "stdout",
     "output_type": "stream",
     "text": [
      "[(8, 8/5), (15, 8/5)]\n"
     ]
    }
   ],
   "source": [
    "q = []\n",
    "seznam_resitev = s2\n",
    "for i in range(len(seznam_resitev)):\n",
    "    t = []\n",
    "    for j in range(len(q)):\n",
    "        t.append(q[j][1])\n",
    "    if t == []:\n",
    "        q.append((i, seznam_resitev[i][3]))\n",
    "    elif seznam_resitev[i][3] > max(t):\n",
    "        q = [(i, seznam_resitev[i][3])]\n",
    "    elif seznam_resitev[i][3] == max(t):\n",
    "        q.append((i, seznam_resitev[i][3]))\n",
    "print q\n",
    "\n",
    "#algoritem nam poda seznam tistih resitev pri katerih imamo maximum  (element_po_vrsti_iz_seznama_resitev, max_koeficient)"
   ]
  },
  {
   "cell_type": "code",
   "execution_count": 2,
   "metadata": {
    "collapsed": false,
    "scrolled": true
   },
   "outputs": [
    {
     "ename": "NameError",
     "evalue": "name 'q' is not defined",
     "output_type": "error",
     "traceback": [
      "\u001b[0;31m---------------------------------------------------------------------------\u001b[0m",
      "\u001b[0;31mNameError\u001b[0m                                 Traceback (most recent call last)",
      "\u001b[0;32m<ipython-input-2-871fb1bccaaa>\u001b[0m in \u001b[0;36m<module>\u001b[0;34m()\u001b[0m\n\u001b[0;32m----> 1\u001b[0;31m \u001b[0;32mfor\u001b[0m \u001b[0mi\u001b[0m \u001b[0;32min\u001b[0m \u001b[0mrange\u001b[0m\u001b[0;34m(\u001b[0m\u001b[0mlen\u001b[0m\u001b[0;34m(\u001b[0m\u001b[0mq\u001b[0m\u001b[0;34m)\u001b[0m\u001b[0;34m)\u001b[0m\u001b[0;34m:\u001b[0m\u001b[0;34m\u001b[0m\u001b[0m\n\u001b[0m\u001b[1;32m      2\u001b[0m     \u001b[0mb\u001b[0m \u001b[0;34m=\u001b[0m \u001b[0mseznam_resitev\u001b[0m\u001b[0;34m[\u001b[0m\u001b[0mq\u001b[0m\u001b[0;34m[\u001b[0m\u001b[0mi\u001b[0m\u001b[0;34m]\u001b[0m\u001b[0;34m[\u001b[0m\u001b[0mInteger\u001b[0m\u001b[0;34m(\u001b[0m\u001b[0;36m0\u001b[0m\u001b[0;34m)\u001b[0m\u001b[0;34m]\u001b[0m\u001b[0;34m]\u001b[0m\u001b[0;34m\u001b[0m\u001b[0m\n\u001b[1;32m      3\u001b[0m     \u001b[0;32mprint\u001b[0m\u001b[0;34m(\u001b[0m\u001b[0mseznam_grafov\u001b[0m\u001b[0;34m[\u001b[0m\u001b[0mb\u001b[0m\u001b[0;34m[\u001b[0m\u001b[0mInteger\u001b[0m\u001b[0;34m(\u001b[0m\u001b[0;36m1\u001b[0m\u001b[0;34m)\u001b[0m\u001b[0;34m]\u001b[0m\u001b[0;34m]\u001b[0m\u001b[0;34m.\u001b[0m\u001b[0mshow\u001b[0m\u001b[0;34m(\u001b[0m\u001b[0;34m)\u001b[0m\u001b[0;34m,\u001b[0m \u001b[0mseznam_grafov\u001b[0m\u001b[0;34m[\u001b[0m\u001b[0mb\u001b[0m\u001b[0;34m[\u001b[0m\u001b[0mInteger\u001b[0m\u001b[0;34m(\u001b[0m\u001b[0;36m2\u001b[0m\u001b[0;34m)\u001b[0m\u001b[0;34m]\u001b[0m\u001b[0;34m]\u001b[0m\u001b[0;34m.\u001b[0m\u001b[0mshow\u001b[0m\u001b[0;34m(\u001b[0m\u001b[0;34m)\u001b[0m\u001b[0;34m)\u001b[0m\u001b[0;34m\u001b[0m\u001b[0m\n",
      "\u001b[0;31mNameError\u001b[0m: name 'q' is not defined"
     ]
    }
   ],
   "source": [
    "for i in range(len(q)):\n",
    "    b = seznam_resitev[q[i][0]]\n",
    "    print(seznam_grafov[b[1]].show(), seznam_grafov[b[2]].show())\n",
    "    "
   ]
  },
  {
   "cell_type": "code",
   "execution_count": 22,
   "metadata": {
    "collapsed": false
   },
   "outputs": [
    {
     "name": "stdout",
     "output_type": "stream",
     "text": [
      "[(0, 1), (1, 1), (4, 1)]\n"
     ]
    }
   ],
   "source": [
    "w = []\n",
    "seznam_resitev = s2\n",
    "for i in range(len(seznam_resitev)):\n",
    "    t = []\n",
    "    for j in range(len(w)):\n",
    "        t.append(w[j][1])\n",
    "    if t == []:\n",
    "        w.append((i, seznam_resitev[i][3]))\n",
    "    elif seznam_resitev[i][3] < min(t):\n",
    "        w = [(i, seznam_resitev[i][3])]\n",
    "    elif seznam_resitev[i][3] == min(t):\n",
    "        w.append((i, seznam_resitev[i][3]))\n",
    "print w\n",
    "\n",
    "#algoritem nam poda seznam tistih resitev pri katerih imamo minimum  (element_po_vrsti_iz_seznama_resitev, min_koeficient)"
   ]
  },
  {
   "cell_type": "code",
   "execution_count": 2,
   "metadata": {
    "collapsed": false
   },
   "outputs": [
    {
     "name": "stdout",
     "output_type": "stream",
     "text": [
      "6\n",
      "8\n",
      "8\n",
      "10\n",
      "12\n",
      "8"
     ]
    },
    {
     "name": "stdout",
     "output_type": "stream",
     "text": [
      "\n",
      "12\n",
      "14\n",
      "14\n",
      "14\n",
      "16\n",
      "18\n",
      "20\n",
      "22\n"
     ]
    },
    {
     "name": "stdout",
     "output_type": "stream",
     "text": [
      "24\n"
     ]
    }
   ],
   "source": [
    "for i in range(3, 8):\n",
    "    for j in range(i, 8):\n",
    "        a = graphs.PathGraph(i).cartesian_product(graphs.PathGraph(j))\n",
    "        b = a.cartesian_product(graphs.CompleteGraph(2))\n",
    "        print(b.dominating_set(value_only=True, total=True))"
   ]
  }
 ],
 "metadata": {
  "kernelspec": {
   "display_name": "SageMath (stable)",
   "language": "sagemath",
   "metadata": {
    "cocalc": {
     "description": "Open-source mathematical software system",
     "priority": 10,
     "url": "https://www.sagemath.org/"
    }
   },
   "name": "sagemath"
  },
  "language_info": {
   "codemirror_mode": {
    "name": "ipython",
    "version": 2
   },
   "file_extension": ".py",
   "mimetype": "text/x-python",
   "name": "python",
   "nbconvert_exporter": "python",
   "pygments_lexer": "ipython2",
   "version": "2.7.15"
  }
 },
 "nbformat": 4,
 "nbformat_minor": 0
}