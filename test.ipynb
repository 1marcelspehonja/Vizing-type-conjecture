{
 "cells": [
  {
   "cell_type": "code",
   "execution_count": 0,
   "metadata": {
    "collapsed": false
   },
   "outputs": [
   ],
   "source": [
   ]
  },
  {
   "cell_type": "code",
   "execution_count": 0,
   "metadata": {
    "collapsed": false
   },
   "outputs": [
   ],
   "source": [
   ]
  },
  {
   "cell_type": "code",
   "execution_count": 1,
   "metadata": {
    "collapsed": false
   },
   "outputs": [
   ],
   "source": [
    "def graf(prvi, drugi, k):\n",
    "\n",
    "    poln_graf = graphs.CompleteGraph(k)\n",
    "\n",
    "    kartezijski_prvega_in_polnega = prvi.cartesian_product(poln_graf)\n",
    "    kartezijski_drugega_in_polnega = drugi.cartesian_product(poln_graf)\n",
    "\n",
    "    kartezijski_prvega_in_drugega = drugi.cartesian_product(prvi)\n",
    "    kartezijski_kartezijskega = kartezijski_prvega_in_drugega.cartesian_product(poln_graf)\n",
    "\n",
    "    krt_prvega = kartezijski_prvega_in_polnega.dominating_set(value_only=True, total=True)\n",
    "    krt_drugega = kartezijski_drugega_in_polnega.dominating_set(value_only=True, total=True)\n",
    "    krt_obeh = kartezijski_kartezijskega.dominating_set(value_only=True, total=True)\n",
    "\n",
    "    return (krt_prvega * krt_drugega) / krt_obeh\n",
    "    #return (krt_prvega * krt_drugega) / krt_obeh, krt_prvega, krt_drugega, krt_obeh"
   ]
  },
  {
   "cell_type": "code",
   "execution_count": 3,
   "metadata": {
    "collapsed": false
   },
   "outputs": [
   ],
   "source": [
    "t = []\n",
    "for G in graphs.nauty_geng('5 -c'):\n",
    "    #G.show()\n",
    "    #G.adjacency_matrix()\n",
    "    t.append(G)"
   ]
  },
  {
   "cell_type": "code",
   "execution_count": 4,
   "metadata": {
    "collapsed": false
   },
   "outputs": [
    {
     "data": {
      "text/plain": [
       "142"
      ]
     },
     "execution_count": 4,
     "metadata": {
     },
     "output_type": "execute_result"
    }
   ],
   "source": [
    "t2 = []\n",
    "for G in graphs.nauty_geng('2 -c'):\n",
    "    t2.append(G)\n",
    "t3 = []\n",
    "for G in graphs.nauty_geng('3 -c'):\n",
    "    t3.append(G)\n",
    "t4 = []\n",
    "for G in graphs.nauty_geng('4 -c'):\n",
    "    t4.append(G)\n",
    "t5 = []\n",
    "for G in graphs.nauty_geng('5 -c'):\n",
    "    t5.append(G)\n",
    "t6 = []\n",
    "for G in graphs.nauty_geng('6 -c'):\n",
    "    t6.append(G)\n",
    "    \n",
    "do6 = t2 + t3 + t4 + t5 + t6\n",
    "do5 = t2 + t3 + t4 + t5\n",
    "do4 = t2 + t3 + t4 \n",
    "do3 = t2 + t3\n",
    "len(do6)"
   ]
  },
  {
   "cell_type": "code",
   "execution_count": 9,
   "metadata": {
    "collapsed": false,
    "scrolled": true
   },
   "outputs": [
   ],
   "source": [
    "k2 = 2\n",
    "s2 = []\n",
    "for i in range(0, len(do6)):\n",
    "    for j in range(i, len(do6)):\n",
    "        s2.append((k2, i, j, graf(do6[i], do6[j], k2)))\n",
    "print s2\n",
    "#ta s se je računal 1 uro točno\n"
   ]
  },
  {
   "cell_type": "code",
   "execution_count": 0,
   "metadata": {
    "collapsed": false
   },
   "outputs": [
   ],
   "source": [
    "#za k=3\n",
    "k3 = 3\n",
    "s3 = []\n",
    "for i in range(0, len(do6)):\n",
    "    for j in range(i, len(do6)):\n",
    "        s3.append((k3, i, j, graf(do6[i], do6[j], k3)))\n",
    "print s3"
   ]
  },
  {
   "cell_type": "code",
   "execution_count": 0,
   "metadata": {
    "collapsed": false
   },
   "outputs": [
   ],
   "source": [
    "#za k=4\n",
    "k4 = 4\n",
    "s4 = []\n",
    "for i in range(0, len(do6-t6)):\n",
    "    for j in range(i, len(do6-t6)):\n",
    "        s4.append((k4, i, j, graf((do6-t6)[i], (do6-t6)[j], k4)))\n",
    "print s4"
   ]
  },
  {
   "cell_type": "code",
   "execution_count": 0,
   "metadata": {
    "collapsed": false
   },
   "outputs": [
   ],
   "source": [
    "#te grafi majo tist koeficient enak 2 velja enakost med L in D\n",
    "r = []\n",
    "for i in range(len(p)):\n",
    "    if s[i][3] == 2:\n",
    "        r.append((s[i][1],s[i][2]))\n",
    "        \n",
    "for j in range(len(r)):\n",
    "    print(do6[r[j][0]].adjacency_matrix(), do6[r[j][1]].show())\n",
    "\n",
    "#grafi na 2 do 6 vozliščih, k = 2, velja enakost"
   ]
  },
  {
   "cell_type": "code",
   "execution_count": 51,
   "metadata": {
    "collapsed": false
   },
   "outputs": [
    {
     "name": "stdout",
     "output_type": "stream",
     "text": [
      "[(4, 0, 0, 1), (4, 0, 1, 1), (4, 0, 2, 6/5), (4, 1, 1, 9/8), (4, 1, 2, 9/7), (4, 2, 2, 9/7)]\n"
     ]
    }
   ],
   "source": [
    "k = 4\n",
    "seznam_grafov = do3\n",
    "s2 = []\n",
    "for i in range(0, len(seznam_grafov)):\n",
    "    for j in range(i, len(seznam_grafov)):\n",
    "        s2.append((k, i, j, graf(seznam_grafov[i], seznam_grafov[j], k)))\n",
    "        \n",
    "print s2\n",
    "\n",
    "#algoritem poda seznam resitev (k, prvi_graf, drugi_graf, iskan_koeficient)"
   ]
  },
  {
   "cell_type": "code",
   "execution_count": 52,
   "metadata": {
    "collapsed": false
   },
   "outputs": [
    {
     "name": "stdout",
     "output_type": "stream",
     "text": [
      "[(4, 9/7), (5, 9/7)]\n"
     ]
    }
   ],
   "source": [
    "q = []\n",
    "seznam_resitev = s2\n",
    "for i in range(len(seznam_resitev)):\n",
    "    t = []\n",
    "    for j in range(len(q)):\n",
    "        t.append(q[j][1])\n",
    "    if t == []:\n",
    "        q.append((i, seznam_resitev[i][3]))\n",
    "    elif seznam_resitev[i][3] > max(t):\n",
    "        q = [(i, seznam_resitev[i][3])]\n",
    "    elif seznam_resitev[i][3] == max(t):\n",
    "        q.append((i, seznam_resitev[i][3]))\n",
    "print q\n",
    "\n",
    "#algoritem nam poda seznam tistih resitev pri katerih imamo maximum  (element_po_vrsti_iz_seznama_resitev, max_koeficient)"
   ]
  },
  {
   "cell_type": "code",
   "execution_count": 64,
   "metadata": {
    "collapsed": false,
    "scrolled": true
   },
   "outputs": [
    {
     "ename": "SyntaxError",
     "evalue": "invalid syntax (<ipython-input-64-a98d06fc4d60>, line 3)",
     "output_type": "error",
     "traceback": [
      "\u001b[0;36m  File \u001b[0;32m\"<ipython-input-64-a98d06fc4d60>\"\u001b[0;36m, line \u001b[0;32m3\u001b[0m\n\u001b[0;31m    print(seznam_grafov[b[Integer(1)]].show(), seznam_grafov[b[Integer(2)]].show()\u001b[0m\n\u001b[0m                                                                                  ^\u001b[0m\n\u001b[0;31mSyntaxError\u001b[0m\u001b[0;31m:\u001b[0m invalid syntax\n"
     ]
    }
   ],
   "source": [
    "for i in range(len(q)):\n",
    "    b = seznam_resitev[q[i][0]]\n",
    "    print(seznam_grafov[b[1]].show(), seznam_grafov[b[2]].show())\n",
    "    "
   ]
  },
  {
   "cell_type": "code",
   "execution_count": 18,
   "metadata": {
    "collapsed": false
   },
   "outputs": [
    {
     "name": "stdout",
     "output_type": "stream",
     "text": [
      "[(0, 1), (1, 1), (4, 1)]\n"
     ]
    }
   ],
   "source": [
    "w = []\n",
    "seznam_resitev = s2\n",
    "for i in range(len(seznam_resitev)):\n",
    "    t = []\n",
    "    for j in range(len(w)):\n",
    "        t.append(w[j][1])\n",
    "    if t == []:\n",
    "        w.append((i, seznam_resitev[i][3]))\n",
    "    elif seznam_resitev[i][3] < min(t):\n",
    "        w = [(i, seznam_resitev[i][3])]\n",
    "    elif seznam_resitev[i][3] == min(t):\n",
    "        w.append((i, seznam_resitev[i][3]))\n",
    "print w\n",
    "\n",
    "#algoritem nam poda seznam tistih resitev pri katerih imamo minimum  (element_po_vrsti_iz_seznama_resitev, min_koeficient)"
   ]
  }
 ],
 "metadata": {
  "kernelspec": {
   "display_name": "SageMath (stable)",
   "language": "sagemath",
   "metadata": {
    "cocalc": {
     "description": "Open-source mathematical software system",
     "priority": 10,
     "url": "https://www.sagemath.org/"
    }
   },
   "name": "sagemath"
  },
  "language_info": {
   "codemirror_mode": {
    "name": "ipython",
    "version": 2
   },
   "file_extension": ".py",
   "mimetype": "text/x-python",
   "name": "python",
   "nbconvert_exporter": "python",
   "pygments_lexer": "ipython2",
   "version": "2.7.15"
  }
 },
 "nbformat": 4,
 "nbformat_minor": 0
}