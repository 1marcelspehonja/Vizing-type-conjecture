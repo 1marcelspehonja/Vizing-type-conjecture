{
 "cells": [
  {
   "cell_type": "code",
   "execution_count": 2,
   "metadata": {
    "collapsed": false
   },
   "outputs": [
   ],
   "source": [
    "def graf(prvi, drugi, k):\n",
    "    poln_graf = graphs.CompleteGraph(k)\n",
    "\n",
    "    kartezijski_prvega_in_polnega = prvi.cartesian_product(poln_graf)\n",
    "    kartezijski_drugega_in_polnega = drugi.cartesian_product(poln_graf)\n",
    "    kartezijski_prvega_in_drugega = drugi.cartesian_product(prvi)\n",
    "    kartezijski_kartezijskega = kartezijski_prvega_in_drugega.cartesian_product(poln_graf)\n",
    "\n",
    "    krt_prvega = kartezijski_prvega_in_polnega.dominating_set(value_only=True, total=True)\n",
    "    krt_drugega = kartezijski_drugega_in_polnega.dominating_set(value_only=True, total=True)\n",
    "    krt_obeh = kartezijski_kartezijskega.dominating_set(value_only=True, total=True)\n",
    "\n",
    "    return (krt_prvega * krt_drugega) / krt_obeh"
   ]
  },
  {
   "cell_type": "code",
   "execution_count": 3,
   "metadata": {
    "collapsed": false
   },
   "outputs": [
    {
     "data": {
      "text/plain": [
       "30"
      ]
     },
     "execution_count": 3,
     "metadata": {
     },
     "output_type": "execute_result"
    }
   ],
   "source": [
    "#vsi grafi do 5 vozlišč - jih je 30\n",
    "t2 = []\n",
    "for G in graphs.nauty_geng('2 -c'):\n",
    "    t2.append(G)\n",
    "t3 = []\n",
    "for G in graphs.nauty_geng('3 -c'):\n",
    "    t3.append(G)\n",
    "t4 = []\n",
    "for G in graphs.nauty_geng('4 -c'):\n",
    "    t4.append(G)\n",
    "t5 = []\n",
    "for G in graphs.nauty_geng('5 -c'):\n",
    "    t5.append(G)\n",
    "    \n",
    "do5 = t2 + t3 + t4 + t5\n",
    "do4 = t2 + t3 + t4 \n",
    "do3 = t2 + t3\n",
    "len(do5)"
   ]
  },
  {
   "cell_type": "code",
   "execution_count": 7,
   "metadata": {
    "collapsed": false,
    "scrolled": true
   },
   "outputs": [
   ],
   "source": [
    "k = 2\n",
    "seznam_grafov = do5\n",
    "grafi_do_5_k2 = []\n",
    "for i in range(len(seznam_grafov)):\n",
    "    for j in range(i, len(seznam_grafov)):\n",
    "        grafi_do_5_k2.append((k, i, j, graf(seznam_grafov[i], seznam_grafov[j], k)))\n",
    "        print(grafi_do_5_k2[-1]);\n",
    "\n",
    "#algoritem poda seznam resitev (k, prvi_graf, drugi_graf, iskan_koeficient) - vseh možnih kombinacij je 435"
   ]
  },
  {
   "cell_type": "code",
   "execution_count": 5,
   "metadata": {
    "collapsed": false
   },
   "outputs": [
    {
     "name": "stdout",
     "output_type": "stream",
     "text": [
      "[(6, 2), (15, 2), (26, 2), (114, 2), (116, 2), (125, 2), (136, 2), (165, 2), (174, 2), (185, 2)]\n"
     ]
    }
   ],
   "source": [
    "q = []\n",
    "seznam_resitev = grafi_do_5_k2\n",
    "for i in range(len(seznam_resitev)):\n",
    "    t = []\n",
    "    for j in range(len(q)):\n",
    "        t.append(q[j][1])\n",
    "    if t == []:\n",
    "        q.append((i, seznam_resitev[i][3]))\n",
    "    elif seznam_resitev[i][3] > max(t):\n",
    "        q = [(i, seznam_resitev[i][3])]\n",
    "    elif seznam_resitev[i][3] == max(t):\n",
    "        q.append((i, seznam_resitev[i][3]))\n",
    "print q\n",
    "\n",
    "#algoritem nam poda seznam tistih resitev pri katerih imamo maximum  (element_po_vrsti_iz_seznama_resitev, max_koeficient)"
   ]
  },
  {
   "cell_type": "code",
   "execution_count": 6,
   "metadata": {
    "collapsed": false
   },
   "outputs": [
    {
     "name": "stdout",
     "output_type": "stream",
     "text": [
      "[(234, 2/5), (236, 2/5), (239, 2/5), (249, 2/5), (275, 2/5), (278, 2/5), (288, 2/5), (329, 2/5), (339, 2/5), (444, 2/5)]\n"
     ]
    }
   ],
   "source": [
    "w = []\n",
    "seznam_resitev = grafi_do_5_k2\n",
    "for i in range(len(seznam_resitev)):\n",
    "    t = []\n",
    "    for j in range(len(w)):\n",
    "        t.append(w[j][1])\n",
    "    if t == []:\n",
    "        w.append((i, seznam_resitev[i][3]))\n",
    "    elif seznam_resitev[i][3] < min(t):\n",
    "        w = [(i, seznam_resitev[i][3])]\n",
    "    elif seznam_resitev[i][3] == min(t):\n",
    "        w.append((i, seznam_resitev[i][3]))\n",
    "print w\n",
    "\n",
    "#algoritem nam poda seznam tistih resitev pri katerih imamo minimum  (element_po_vrsti_iz_seznama_resitev, min_koeficient)"
   ]
  },
  {
   "cell_type": "code",
   "execution_count": 8,
   "metadata": {
    "collapsed": false
   },
   "outputs": [
    {
     "name": "stdout",
     "output_type": "stream",
     "text": [
      "(2, 0, 6, 2)\n",
      "(2, 0, 15, 2)\n",
      "(2, 0, 26, 2)\n",
      "(2, 4, 4, 2)\n",
      "(2, 4, 6, 2)\n",
      "(2, 4, 15, 2)\n",
      "(2, 4, 26, 2)\n",
      "(2, 6, 6, 2)\n",
      "(2, 6, 15, 2)\n",
      "(2, 6, 26, 2)\n"
     ]
    }
   ],
   "source": [
    "for i in range(len(q)):\n",
    "    print(grafi_do_5_k2[q[i][0]])"
   ]
  },
  {
   "cell_type": "code",
   "execution_count": 10,
   "metadata": {
    "collapsed": false
   },
   "outputs": [
    {
     "data": {
      "image/png": "[encoded data removed]",
      "text/plain": [
       "Graph on 4 vertices"
      ]
     },
     "execution_count": 10,
     "metadata": {
     },
     "output_type": "execute_result"
    }
   ],
   "source": [
    "do5[6]    #se ponovi v 5 od 10 najboljših rešitev"
   ]
  },
  {
   "cell_type": "code",
   "execution_count": 5,
   "metadata": {
    "collapsed": false,
    "scrolled": true
   },
   "outputs": [
   ],
   "source": [
    "k = 3\n",
    "seznam_grafov = do5\n",
    "grafi_do_5_k2 = []\n",
    "for i in range(len(seznam_grafov)):\n",
    "    for j in range(i, len(seznam_grafov)):\n",
    "        grafi_do_5_k2.append((k, i, j, graf(seznam_grafov[i], seznam_grafov[j], k)))\n",
    "        print(grafi_do_5_k2[-1]);\n",
    "#algoritem poda seznam resitev (k, prvi_graf, drugi_graf, iskan_koeficient) - vseh možnih kombinacij je 435"
   ]
  },
  {
   "cell_type": "code",
   "execution_count": 12,
   "metadata": {
    "collapsed": false
   },
   "outputs": [
    {
     "name": "stdout",
     "output_type": "stream",
     "text": [
      "[(75, 5/3), (172, 5/3), (177, 5/3), (312, 5/3), (317, 5/3), (387, 5/3)]\n"
     ]
    }
   ],
   "source": [
    "q = []\n",
    "seznam_resitev = grafi_do_5_k2\n",
    "for i in range(len(seznam_resitev)):\n",
    "    t = []\n",
    "    for j in range(len(q)):\n",
    "        t.append(q[j][1])\n",
    "    if t == []:\n",
    "        q.append((i, seznam_resitev[i][3]))\n",
    "    elif seznam_resitev[i][3] > max(t):\n",
    "        q = [(i, seznam_resitev[i][3])]\n",
    "    elif seznam_resitev[i][3] == max(t):\n",
    "        q.append((i, seznam_resitev[i][3]))\n",
    "print q"
   ]
  },
  {
   "cell_type": "code",
   "execution_count": 13,
   "metadata": {
    "collapsed": false
   },
   "outputs": [
    {
     "name": "stdout",
     "output_type": "stream",
     "text": [
      "[(234, 9/13), (236, 9/13), (239, 9/13), (249, 9/13), (275, 9/13), (278, 9/13), (288, 9/13), (329, 9/13), (339, 9/13), (444, 9/13)]\n"
     ]
    }
   ],
   "source": [
    "w = []\n",
    "seznam_resitev = grafi_do_5_k2\n",
    "for i in range(len(seznam_resitev)):\n",
    "    t = []\n",
    "    for j in range(len(w)):\n",
    "        t.append(w[j][1])\n",
    "    if t == []:\n",
    "        w.append((i, seznam_resitev[i][3]))\n",
    "    elif seznam_resitev[i][3] < min(t):\n",
    "        w = [(i, seznam_resitev[i][3])]\n",
    "    elif seznam_resitev[i][3] == min(t):\n",
    "        w.append((i, seznam_resitev[i][3]))\n",
    "print w"
   ]
  },
  {
   "cell_type": "code",
   "execution_count": 14,
   "metadata": {
    "collapsed": false
   },
   "outputs": [
    {
     "name": "stdout",
     "output_type": "stream",
     "text": [
      "(3, 2, 18, 5/3)\n",
      "(3, 6, 13, 5/3)\n",
      "(3, 6, 18, 5/3)\n",
      "(3, 13, 13, 5/3)\n",
      "(3, 13, 18, 5/3)\n",
      "(3, 18, 18, 5/3)\n"
     ]
    }
   ],
   "source": [
    "for i in range(len(q)):\n",
    "    print(grafi_do_5_k2[q[i][0]])"
   ]
  },
  {
   "cell_type": "code",
   "execution_count": 15,
   "metadata": {
    "collapsed": false
   },
   "outputs": [
    {
     "data": {
      "image/png": "[encoded data removed]",
      "text/plain": [
       "Graph on 5 vertices"
      ]
     },
     "execution_count": 15,
     "metadata": {
     },
     "output_type": "execute_result"
    }
   ],
   "source": [
    "do5[18]    #se ponovi v 4 od 6 najboljših rešitev"
   ]
  },
  {
   "cell_type": "code",
   "execution_count": 4,
   "metadata": {
    "collapsed": false,
    "scrolled": true
   },
   "outputs": [
   ],
   "source": [
    "k = 4\n",
    "seznam_grafov = do5\n",
    "grafi_do_5_k2 = []\n",
    "for i in range(len(seznam_grafov)):\n",
    "    for j in range(24, len(seznam_grafov)):\n",
    "        grafi_do_5_k2.append((k, i, j, graf(seznam_grafov[i], seznam_grafov[j], k)))\n",
    "        print(grafi_do_5_k2[-1]);\n",
    "#algoritem poda seznam resitev (k, prvi_graf, drugi_graf, iskan_koeficient) - vseh možnih kombinacij je 435"
   ]
  },
  {
   "cell_type": "code",
   "execution_count": 0,
   "metadata": {
    "collapsed": false
   },
   "outputs": [
   ],
   "source": [
   ]
  }
 ],
 "metadata": {
  "kernelspec": {
   "display_name": "SageMath (stable)",
   "language": "sagemath",
   "metadata": {
    "cocalc": {
     "description": "Open-source mathematical software system",
     "priority": 10,
     "url": "https://www.sagemath.org/"
    }
   },
   "name": "sagemath"
  },
  "language_info": {
   "codemirror_mode": {
    "name": "ipython",
    "version": 2
   },
   "file_extension": ".py",
   "mimetype": "text/x-python",
   "name": "python",
   "nbconvert_exporter": "python",
   "pygments_lexer": "ipython2",
   "version": "2.7.15"
  }
 },
 "nbformat": 4,
 "nbformat_minor": 0
}