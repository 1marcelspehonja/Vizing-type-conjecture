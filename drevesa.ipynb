{
 "cells": [
  {
   "cell_type": "code",
   "execution_count": 1,
   "metadata": {
    "collapsed": false
   },
   "outputs": [
   ],
   "source": [
    "def graf(prvi, drugi, k):\n",
    "\n",
    "    poln_graf = graphs.CompleteGraph(k)\n",
    "\n",
    "    kartezijski_prvega_in_polnega = prvi.cartesian_product(poln_graf)\n",
    "    kartezijski_drugega_in_polnega = drugi.cartesian_product(poln_graf)\n",
    "\n",
    "    kartezijski_prvega_in_drugega = drugi.cartesian_product(prvi)\n",
    "    kartezijski_kartezijskega = kartezijski_prvega_in_drugega.cartesian_product(poln_graf)\n",
    "\n",
    "    krt_prvega = kartezijski_prvega_in_polnega.dominating_set(value_only=True, total=True)\n",
    "    krt_drugega = kartezijski_drugega_in_polnega.dominating_set(value_only=True, total=True)\n",
    "    krt_obeh = kartezijski_kartezijskega.dominating_set(value_only=True, total=True)\n",
    "    \n",
    "    return (krt_prvega * krt_drugega) / krt_obeh"
   ]
  },
  {
   "cell_type": "code",
   "execution_count": 2,
   "metadata": {
    "collapsed": false
   },
   "outputs": [
   ],
   "source": [
    "from sage.graphs.trees import TreeIterator\n",
    "\n",
    "#k-polni grafi\n",
    "K = []\n",
    "for i in range(2, 21):\n",
    "    K.append(graphs.CompleteGraph(i))\n",
    "\n",
    "#zaloga dreves\n",
    "#neizomorfnih dreves na 10 vozliščih je 47 (do 10 pa 202), na 11 vozliščih pa že 235 (do 11 vozlišč torej 437)\n",
    "T = []\n",
    "for i in range(1, 11):\n",
    "    for t in TreeIterator(i):\n",
    "        T.append(t)"
   ]
  },
  {
   "cell_type": "code",
   "execution_count": 2,
   "metadata": {
    "collapsed": false
   },
   "outputs": [
    {
     "data": {
      "text/plain": [
       "201"
      ]
     },
     "execution_count": 2,
     "metadata": {
     },
     "output_type": "execute_result"
    }
   ],
   "source": [
    "len(T)"
   ]
  },
  {
   "cell_type": "code",
   "execution_count": 4,
   "metadata": {
    "collapsed": false,
    "scrolled": true
   },
   "outputs": [
    {
     "name": "stdout",
     "output_type": "stream",
     "text": [
      "(1, 1, 1)\n",
      "(1, 1, 2)\n",
      "(4/3, 1, 3)\n",
      "(1, 1, 4)\n",
      "(4/3, 1, 5)\n",
      "(4/3, 1, 6)\n"
     ]
    },
    {
     "name": "stdout",
     "output_type": "stream",
     "text": [
      "(1, 1, 7)\n",
      "(1, 1, 8)\n",
      "(1, 1, 9)\n",
      "(1, 1, 10)\n",
      "(3/2, 1, 11)\n"
     ]
    },
    {
     "name": "stdout",
     "output_type": "stream",
     "text": [
      "(4/3, 1, 12)\n",
      "(1, 1, 13)\n",
      "(3/2, 1, 14)\n",
      "(1, 1, 15)\n",
      "(6/5, 1, 16)\n"
     ]
    },
    {
     "name": "stdout",
     "output_type": "stream",
     "text": [
      "(1, 1, 17)\n",
      "(1, 1, 18)\n",
      "(6/5, 1, 19)\n",
      "(1, 1, 20)\n",
      "(3/2, 1, 21)\n",
      "(3/2, 1, 22)\n",
      "(4/3, 1, 23)\n",
      "(1, 1, 24)\n",
      "(6/5, 1, 25)\n"
     ]
    },
    {
     "name": "stdout",
     "output_type": "stream",
     "text": [
      "(6/5, 1, 26)\n",
      "(1, 1, 27)\n",
      "(6/5, 1, 28)\n",
      "(6/5, 1, 29)\n"
     ]
    },
    {
     "name": "stdout",
     "output_type": "stream",
     "text": [
      "(4/3, 1, 30)\n",
      "(6/5, 1, 31)\n",
      "(1, 1, 32)\n",
      "(6/5, 1, 33)\n",
      "(6/5, 1, 34)"
     ]
    },
    {
     "name": "stdout",
     "output_type": "stream",
     "text": [
      "\n",
      "(6/5, 1, 35)\n",
      "(1, 1, 36)\n",
      "(1, 1, 37)\n"
     ]
    },
    {
     "name": "stdout",
     "output_type": "stream",
     "text": [
      "(6/5, 1, 38)\n",
      "(1, 1, 39)\n",
      "(6/5, 1, 40)\n",
      "(6/5, 1, 41)\n",
      "(6/5, 1, 42)\n",
      "(1, 1, 43)\n",
      "(8/5, 1, 44)"
     ]
    },
    {
     "name": "stdout",
     "output_type": "stream",
     "text": [
      "\n",
      "(3/2, 1, 45)\n",
      "(4/3, 1, 46)\n",
      "(1, 1, 47)\n",
      "(2/3, 2, 2)\n",
      "(1, 2, 3)\n"
     ]
    },
    {
     "name": "stdout",
     "output_type": "stream",
     "text": [
      "(2/3, 2, 4)\n",
      "(1, 2, 5)\n",
      "(1, 2, 6)\n",
      "(2/3, 2, 7)\n",
      "(4/5, 2, 8)\n",
      "(4/5, 2, 9)\n",
      "(4/5, 2, 10)\n",
      "(6/5, 2, 11)\n",
      "(1, 2, 12)\n",
      "(2/3, 2, 13)\n"
     ]
    },
    {
     "name": "stdout",
     "output_type": "stream",
     "text": [
      "(1, 2, 14)\n",
      "(2/3, 2, 15)\n"
     ]
    },
    {
     "name": "stdout",
     "output_type": "stream",
     "text": [
      "(1, 2, 16)\n",
      "(4/5, 2, 17)\n",
      "(2/3, 2, 18)\n"
     ]
    },
    {
     "name": "stdout",
     "output_type": "stream",
     "text": [
      "(1, 2, 19)\n",
      "(4/5, 2, 20)\n",
      "(6/5, 2, 21)\n",
      "(6/5, 2, 22)\n",
      "(1, 2, 23)\n",
      "(2/3, 2, 24)\n"
     ]
    },
    {
     "name": "stdout",
     "output_type": "stream",
     "text": [
      "(6/7, 2, 25)\n",
      "(6/7, 2, 26)\n",
      "(2/3, 2, 27)\n"
     ]
    },
    {
     "name": "stdout",
     "output_type": "stream",
     "text": [
      "(6/7, 2, 28)\n",
      "(6/7, 2, 29)\n",
      "(8/7, 2, 30)\n",
      "(6/7, 2, 31)\n",
      "(2/3, 2, 32)\n"
     ]
    },
    {
     "name": "stdout",
     "output_type": "stream",
     "text": [
      "(6/7, 2, 33)\n",
      "(1, 2, 34)\n",
      "(1, 2, 35)\n",
      "(4/5, 2, 36)\n",
      "(2/3, 2, 37)\n",
      "(1, 2, 38)\n"
     ]
    },
    {
     "name": "stdout",
     "output_type": "stream",
     "text": [
      "(2/3, 2, 39)\n",
      "(6/7, 2, 40)\n",
      "(1, 2, 41)\n",
      "(1, 2, 42)\n",
      "(4/5, 2, 43)\n",
      "(4/3, 2, 44)\n",
      "(6/5, 2, 45)\n",
      "(1, 2, 46)\n",
      "(2/3, 2, 47)\n"
     ]
    },
    {
     "name": "stdout",
     "output_type": "stream",
     "text": [
      "(2, 3, 3)\n",
      "(1, 3, 4)\n",
      "(4/3, 3, 5)\n",
      "(8/5, 3, 6)\n"
     ]
    },
    {
     "name": "stdout",
     "output_type": "stream",
     "text": [
      "(1, 3, 7)\n"
     ]
    },
    {
     "name": "stdout",
     "output_type": "stream",
     "text": [
      "(8/7, 3, 8)\n",
      "(8/7, 3, 9)\n",
      "(4/3, 3, 10)\n",
      "(2, 3, 11)\n",
      "(4/3, 3, 12)\n",
      "(1, 3, 13)\n",
      "(12/7, 3, 14)\n",
      "(1, 3, 15)\n"
     ]
    },
    {
     "name": "stdout",
     "output_type": "stream",
     "text": [
      "(3/2, 3, 16)\n",
      "(8/7, 3, 17)\n",
      "(1, 3, 18)"
     ]
    },
    {
     "name": "stdout",
     "output_type": "stream",
     "text": [
      "\n",
      "(12/7, 3, 19)\n",
      "(8/7, 3, 20)\n",
      "(3/2, 3, 21)\n",
      "(12/7, 3, 22)\n"
     ]
    },
    {
     "name": "stdout",
     "output_type": "stream",
     "text": [
      "(4/3, 3, 23)\n",
      "(1, 3, 24)\n"
     ]
    },
    {
     "name": "stdout",
     "output_type": "stream",
     "text": [
      "(3/2, 3, 25)\n",
      "(3/2, 3, 26)\n",
      "(1, 3, 27)\n",
      "(3/2, 3, 28)\n",
      "(3/2, 3, 29)\n",
      "(2, 3, 30)\n",
      "(4/3, 3, 31)\n",
      "(1, 3, 32)"
     ]
    },
    {
     "name": "stdout",
     "output_type": "stream",
     "text": [
      "\n",
      "(4/3, 3, 33)\n",
      "(4/3, 3, 34)\n",
      "(4/3, 3, 35)\n",
      "(8/7, 3, 36)\n",
      "(1, 3, 37)\n",
      "(3/2, 3, 38)\n",
      "(1, 3, 39)\n",
      "(3/2, 3, 40)\n",
      "(4/3, 3, 41)\n"
     ]
    },
    {
     "name": "stdout",
     "output_type": "stream",
     "text": [
      "(3/2, 3, 42)\n",
      "(8/7, 3, 43)\n",
      "(2, 3, 44)\n",
      "(3/2, 3, 45)\n",
      "(4/3, 3, 46)\n"
     ]
    },
    {
     "name": "stdout",
     "output_type": "stream",
     "text": [
      "(1, 3, 47)\n",
      "(1/2, 4, 4)\n",
      "(4/5, 4, 5)\n",
      "(4/5, 4, 6)\n",
      "(1/2, 4, 7)\n",
      "(2/3, 4, 8)\n"
     ]
    },
    {
     "name": "stdout",
     "output_type": "stream",
     "text": [
      "(2/3, 4, 9)\n",
      "(2/3, 4, 10)\n",
      "(1, 4, 11)\n",
      "(4/5, 4, 12)\n",
      "(1/2, 4, 13)\n",
      "(6/7, 4, 14)\n",
      "(4/7, 4, 15)"
     ]
    },
    {
     "name": "stdout",
     "output_type": "stream",
     "text": [
      "\n",
      "(6/7, 4, 16)\n",
      "(2/3, 4, 17)\n",
      "(4/7, 4, 18)\n"
     ]
    },
    {
     "name": "stdout",
     "output_type": "stream",
     "text": [
      "(6/7, 4, 19)\n",
      "(2/3, 4, 20)\n",
      "(1, 4, 21)\n",
      "(1, 4, 22)\n",
      "(4/5, 4, 23)\n",
      "(1/2, 4, 24)\n",
      "(3/4, 4, 25)\n"
     ]
    },
    {
     "name": "stdout",
     "output_type": "stream",
     "text": [
      "(3/4, 4, 26)\n",
      "(1/2, 4, 27)\n",
      "(3/4, 4, 28)\n"
     ]
    },
    {
     "name": "stdout",
     "output_type": "stream",
     "text": [
      "(3/4, 4, 29)\n",
      "(1, 4, 30)\n",
      "(3/4, 4, 31)\n",
      "(4/7, 4, 32)\n"
     ]
    },
    {
     "name": "stdout",
     "output_type": "stream",
     "text": [
      "(3/4, 4, 33)\n",
      "(6/7, 4, 34)\n",
      "(6/7, 4, 35)\n"
     ]
    },
    {
     "name": "stdout",
     "output_type": "stream",
     "text": [
      "(2/3, 4, 36)\n",
      "(4/7, 4, 37)\n"
     ]
    },
    {
     "name": "stdout",
     "output_type": "stream",
     "text": [
      "(6/7, 4, 38)\n",
      "(4/7, 4, 39)\n",
      "(3/4, 4, 40)\n",
      "(6/7, 4, 41)\n"
     ]
    },
    {
     "name": "stdout",
     "output_type": "stream",
     "text": [
      "(6/7, 4, 42)\n",
      "(2/3, 4, 43)\n",
      "(8/7, 4, 44)\n",
      "(1, 4, 45)\n",
      "(4/5, 4, 46)\n",
      "(1/2, 4, 47)\n",
      "(8/7, 5, 5)\n",
      "(8/7, 5, 6)\n",
      "(4/5, 5, 7)"
     ]
    },
    {
     "name": "stdout",
     "output_type": "stream",
     "text": [
      "\n",
      "(1, 5, 8)\n",
      "(1, 5, 9)\n",
      "(1, 5, 10)\n",
      "(3/2, 5, 11)\n",
      "(8/7, 5, 12)\n",
      "(4/5, 5, 13)"
     ]
    },
    {
     "name": "stdout",
     "output_type": "stream",
     "text": [
      "\n"
     ]
    },
    {
     "name": "stdout",
     "output_type": "stream",
     "text": [
      "(4/3, 5, 14)\n",
      "(8/9, 5, 15)\n",
      "(4/3, 5, 16)\n",
      "(1, 5, 17)\n"
     ]
    },
    {
     "name": "stdout",
     "output_type": "stream",
     "text": [
      "(8/9, 5, 18)\n",
      "(4/3, 5, 19)\n",
      "(8/9, 5, 20)\n",
      "(4/3, 5, 21)\n",
      "(4/3, 5, 22)\n",
      "(8/7, 5, 23)\n",
      "(4/5, 5, 24)\n"
     ]
    },
    {
     "name": "stdout",
     "output_type": "stream",
     "text": [
      "(12/11, 5, 25)\n",
      "(6/5, 5, 26)\n"
     ]
    },
    {
     "name": "stdout",
     "output_type": "stream",
     "text": [
      "(4/5, 5, 27)\n",
      "(12/11, 5, 28)\n",
      "(6/5, 5, 29)\n"
     ]
    },
    {
     "name": "stdout",
     "output_type": "stream",
     "text": [
      "(16/11, 5, 30)\n",
      "(12/11, 5, 31)\n"
     ]
    },
    {
     "name": "stdout",
     "output_type": "stream",
     "text": [
      "(8/9, 5, 32)\n",
      "(6/5, 5, 33)\n",
      "(12/11, 5, 34)\n"
     ]
    },
    {
     "name": "stdout",
     "output_type": "stream",
     "text": [
      "(6/5, 5, 35)\n",
      "(1, 5, 36)\n",
      "(8/9, 5, 37)\n",
      "(6/5, 5, 38)\n",
      "(4/5, 5, 39)\n",
      "(12/11, 5, 40)\n",
      "(12/11, 5, 41)\n",
      "(12/11, 5, 42)\n"
     ]
    },
    {
     "name": "stdout",
     "output_type": "stream",
     "text": [
      "(8/9, 5, 43)\n",
      "(8/5, 5, 44)\n",
      "(4/3, 5, 45)\n",
      "(8/7, 5, 46)\n"
     ]
    },
    {
     "name": "stdout",
     "output_type": "stream",
     "text": [
      "(4/5, 5, 47)\n",
      "(4/3, 6, 6)\n",
      "(4/5, 6, 7)\n",
      "(1, 6, 8)\n",
      "(1, 6, 9)\n",
      "(8/7, 6, 10)\n",
      "(12/7, 6, 11)"
     ]
    },
    {
     "name": "stdout",
     "output_type": "stream",
     "text": [
      "\n",
      "(8/7, 6, 12)\n",
      "(4/5, 6, 13)\n",
      "(4/3, 6, 14)\n"
     ]
    },
    {
     "name": "stdout",
     "output_type": "stream",
     "text": [
      "(8/9, 6, 15)\n",
      "(4/3, 6, 16)\n",
      "(1, 6, 17)\n"
     ]
    },
    {
     "name": "stdout",
     "output_type": "stream",
     "text": [
      "(8/9, 6, 18)\n",
      "(3/2, 6, 19)\n",
      "(1, 6, 20)\n",
      "(4/3, 6, 21)\n",
      "(3/2, 6, 22)"
     ]
    },
    {
     "name": "stdout",
     "output_type": "stream",
     "text": [
      "\n",
      "(8/7, 6, 23)\n",
      "(4/5, 6, 24)\n",
      "(6/5, 6, 25)\n",
      "(6/5, 6, 26)\n",
      "(4/5, 6, 27)\n",
      "(6/5, 6, 28)\n"
     ]
    },
    {
     "name": "stdout",
     "output_type": "stream",
     "text": [
      "(6/5, 6, 29)\n",
      "(8/5, 6, 30)\n",
      "(6/5, 6, 31)\n",
      "(8/9, 6, 32)\n",
      "(6/5, 6, 33)"
     ]
    },
    {
     "name": "stdout",
     "output_type": "stream",
     "text": [
      "\n",
      "(6/5, 6, 34)\n",
      "(6/5, 6, 35)\n",
      "(1, 6, 36)\n"
     ]
    },
    {
     "name": "stdout",
     "output_type": "stream",
     "text": [
      "(8/9, 6, 37)\n",
      "(4/3, 6, 38)\n",
      "(8/9, 6, 39)\n",
      "(4/3, 6, 40)"
     ]
    },
    {
     "name": "stdout",
     "output_type": "stream",
     "text": [
      "\n",
      "(6/5, 6, 41)\n",
      "(4/3, 6, 42)\n",
      "(1, 6, 43)\n",
      "(16/9, 6, 44)\n",
      "(4/3, 6, 45)\n",
      "(8/7, 6, 46)\n",
      "(4/5, 6, 47)\n",
      "(2/5, 7, 7)"
     ]
    },
    {
     "name": "stdout",
     "output_type": "stream",
     "text": [
      "\n",
      "(2/3, 7, 8)\n",
      "(2/3, 7, 9)\n",
      "(2/3, 7, 10)\n",
      "(1, 7, 11)\n",
      "(2/3, 7, 12)\n"
     ]
    },
    {
     "name": "stdout",
     "output_type": "stream",
     "text": [
      "(2/5, 7, 13)\n",
      "(6/7, 7, 14)\n",
      "(4/7, 7, 15)\n",
      "(6/7, 7, 16)\n",
      "(4/7, 7, 17)\n",
      "(4/7, 7, 18)\n",
      "(6/7, 7, 19)\n",
      "(4/7, 7, 20)"
     ]
    },
    {
     "name": "stdout",
     "output_type": "stream",
     "text": [
      "\n",
      "(6/7, 7, 21)\n",
      "(6/7, 7, 22)\n",
      "(2/3, 7, 23)\n",
      "(2/5, 7, 24)\n",
      "(3/4, 7, 25)\n",
      "(3/4, 7, 26)\n"
     ]
    },
    {
     "name": "stdout",
     "output_type": "stream",
     "text": [
      "(1/2, 7, 27)\n",
      "(3/4, 7, 28)\n",
      "(3/4, 7, 29)\n",
      "(1, 7, 30)\n",
      "(3/4, 7, 31)\n",
      "(1/2, 7, 32)\n"
     ]
    },
    {
     "name": "stdout",
     "output_type": "stream",
     "text": [
      "(3/4, 7, 33)\n",
      "(3/4, 7, 34)\n",
      "(3/4, 7, 35)\n",
      "(4/7, 7, 36)\n",
      "(1/2, 7, 37)\n",
      "(3/4, 7, 38)"
     ]
    },
    {
     "name": "stdout",
     "output_type": "stream",
     "text": [
      "\n",
      "(1/2, 7, 39)\n"
     ]
    },
    {
     "name": "stdout",
     "output_type": "stream",
     "text": [
      "(3/4, 7, 40)\n",
      "(3/4, 7, 41)\n",
      "(3/4, 7, 42)\n",
      "(4/7, 7, 43)\n",
      "(1, 7, 44)"
     ]
    },
    {
     "name": "stdout",
     "output_type": "stream",
     "text": [
      "\n",
      "(6/7, 7, 45)\n",
      "(2/3, 7, 46)\n",
      "(2/5, 7, 47)\n"
     ]
    },
    {
     "name": "stdout",
     "output_type": "stream",
     "text": [
      "(4/5, 8, 8)\n"
     ]
    },
    {
     "name": "stdout",
     "output_type": "stream",
     "text": [
      "(4/5, 8, 9)\n",
      "(4/5, 8, 10)\n",
      "(6/5, 8, 11)\n",
      "(1, 8, 12)\n",
      "(2/3, 8, 13)\n"
     ]
    },
    {
     "name": "stdout",
     "output_type": "stream",
     "text": [
      "(12/11, 8, 14)\n"
     ]
    },
    {
     "name": "stdout",
     "output_type": "stream",
     "text": [
      "(8/11, 8, 15)\n",
      "(12/11, 8, 16)\n",
      "(4/5, 8, 17)\n"
     ]
    },
    {
     "name": "stdout",
     "output_type": "stream",
     "text": [
      "(8/11, 8, 18)\n",
      "(12/11, 8, 19)\n",
      "(4/5, 8, 20)\n",
      "(6/5, 8, 21)\n",
      "(6/5, 8, 22)\n"
     ]
    },
    {
     "name": "stdout",
     "output_type": "stream",
     "text": [
      "(1, 8, 23)\n",
      "(2/3, 8, 24)\n"
     ]
    },
    {
     "name": "stdout",
     "output_type": "stream",
     "text": [
      "(1, 8, 25)\n",
      "(1, 8, 26)\n"
     ]
    },
    {
     "name": "stdout",
     "output_type": "stream",
     "text": [
      "(2/3, 8, 27)\n",
      "(1, 8, 28)\n"
     ]
    },
    {
     "name": "stdout",
     "output_type": "stream",
     "text": [
      "(12/13, 8, 29)\n",
      "(4/3, 8, 30)\n",
      "(12/13, 8, 31)\n",
      "(8/11, 8, 32)\n",
      "(12/13, 8, 33)\n",
      "(1, 8, 34)\n"
     ]
    },
    {
     "name": "stdout",
     "output_type": "stream",
     "text": [
      "(1, 8, 35)\n",
      "(4/5, 8, 36)\n"
     ]
    },
    {
     "name": "stdout",
     "output_type": "stream",
     "text": [
      "(8/11, 8, 37)\n",
      "(1, 8, 38)\n",
      "(2/3, 8, 39)\n",
      "(12/13, 8, 40)\n"
     ]
    },
    {
     "name": "stdout",
     "output_type": "stream",
     "text": [
      "(1, 8, 41)\n",
      "(1, 8, 42)\n",
      "(4/5, 8, 43)\n"
     ]
    },
    {
     "name": "stdout",
     "output_type": "stream",
     "text": [
      "(4/3, 8, 44)\n",
      "(6/5, 8, 45)\n",
      "(1, 8, 46)\n",
      "(2/3, 8, 47)\n"
     ]
    },
    {
     "name": "stdout",
     "output_type": "stream",
     "text": [
      "(8/9, 9, 9)\n",
      "(8/9, 9, 10)\n"
     ]
    },
    {
     "name": "stdout",
     "output_type": "stream",
     "text": [
      "(4/3, 9, 11)\n",
      "(1, 9, 12)\n",
      "(2/3, 9, 13)\n",
      "(12/11, 9, 14)\n",
      "(8/11, 9, 15)\n",
      "(12/11, 9, 16)\n",
      "(4/5, 9, 17)\n",
      "(8/11, 9, 18)\n",
      "(12/11, 9, 19)\n",
      "(4/5, 9, 20)\n"
     ]
    },
    {
     "name": "stdout",
     "output_type": "stream",
     "text": [
      "(6/5, 9, 21)\n",
      "(6/5, 9, 22)\n",
      "(1, 9, 23)\n",
      "(2/3, 9, 24)\n",
      "(12/13, 9, 25)\n",
      "(1, 9, 26)"
     ]
    },
    {
     "name": "stdout",
     "output_type": "stream",
     "text": [
      "\n",
      "(2/3, 9, 27)\n",
      "(1, 9, 28)\n"
     ]
    },
    {
     "name": "stdout",
     "output_type": "stream",
     "text": [
      "(1, 9, 29)\n",
      "(16/13, 9, 30)\n",
      "(1, 9, 31)\n",
      "(8/11, 9, 32)\n"
     ]
    },
    {
     "name": "stdout",
     "output_type": "stream",
     "text": [
      "(1, 9, 33)\n",
      "(1, 9, 34)\n",
      "(1, 9, 35)\n"
     ]
    },
    {
     "name": "stdout",
     "output_type": "stream",
     "text": [
      "(4/5, 9, 36)\n",
      "(8/11, 9, 37)\n",
      "(1, 9, 38)"
     ]
    },
    {
     "name": "stdout",
     "output_type": "stream",
     "text": [
      "\n",
      "(8/11, 9, 39)\n",
      "(1, 9, 40)"
     ]
    },
    {
     "name": "stdout",
     "output_type": "stream",
     "text": [
      "\n",
      "(1, 9, 41)\n"
     ]
    },
    {
     "name": "stdout",
     "output_type": "stream",
     "text": [
      "(1, 9, 42)\n",
      "(4/5, 9, 43)\n",
      "(16/11, 9, 44)\n",
      "(6/5, 9, 45)\n"
     ]
    },
    {
     "name": "stdout",
     "output_type": "stream",
     "text": [
      "(1, 9, 46)\n",
      "(2/3, 9, 47)\n",
      "(1, 10, 10)\n",
      "(4/3, 10, 11)\n"
     ]
    },
    {
     "name": "stdout",
     "output_type": "stream",
     "text": [
      "(1, 10, 12)\n",
      "(2/3, 10, 13)\n",
      "(12/11, 10, 14)\n",
      "(8/11, 10, 15)\n",
      "(12/11, 10, 16)\n",
      "(4/5, 10, 17)\n",
      "(4/5, 10, 18)"
     ]
    },
    {
     "name": "stdout",
     "output_type": "stream",
     "text": [
      "\n",
      "(6/5, 10, 19)\n",
      "(8/9, 10, 20)\n",
      "(6/5, 10, 21)\n",
      "(6/5, 10, 22)\n",
      "(1, 10, 23)\n",
      "(2/3, 10, 24)\n",
      "(1, 10, 25)"
     ]
    },
    {
     "name": "stdout",
     "output_type": "stream",
     "text": [
      "\n",
      "(1, 10, 26)\n",
      "(2/3, 10, 27)\n",
      "(1, 10, 28)\n"
     ]
    },
    {
     "name": "stdout",
     "output_type": "stream",
     "text": [
      "(1, 10, 29)\n",
      "(4/3, 10, 30)\n",
      "(1, 10, 31)\n"
     ]
    },
    {
     "name": "stdout",
     "output_type": "stream",
     "text": [
      "(8/11, 10, 32)\n",
      "(1, 10, 33)\n",
      "(1, 10, 34)\n",
      "(1, 10, 35)\n",
      "(4/5, 10, 36)\n"
     ]
    },
    {
     "name": "stdout",
     "output_type": "stream",
     "text": [
      "(8/11, 10, 37)\n",
      "(12/11, 10, 38)\n",
      "(4/5, 10, 39)\n",
      "(12/11, 10, 40)\n"
     ]
    },
    {
     "name": "stdout",
     "output_type": "stream",
     "text": [
      "(1, 10, 41)\n",
      "(12/11, 10, 42)\n",
      "(4/5, 10, 43)\n",
      "(16/11, 10, 44)\n",
      "(6/5, 10, 45)\n",
      "(1, 10, 46)\n"
     ]
    },
    {
     "name": "stdout",
     "output_type": "stream",
     "text": [
      "(2/3, 10, 47)\n",
      "(2, 11, 11)\n",
      "(3/2, 11, 12)\n",
      "(1, 11, 13)\n",
      "(9/5, 11, 14)\n"
     ]
    },
    {
     "name": "stdout",
     "output_type": "stream",
     "text": [
      "(12/11, 11, 15)\n",
      "(18/11, 11, 16)\n",
      "(6/5, 11, 17)\n"
     ]
    },
    {
     "name": "stdout",
     "output_type": "stream",
     "text": [
      "(6/5, 11, 18)\n",
      "(9/5, 11, 19)\n",
      "(6/5, 11, 20)\n",
      "(18/11, 11, 21)\n",
      "(9/5, 11, 22)\n"
     ]
    },
    {
     "name": "stdout",
     "output_type": "stream",
     "text": [
      "(4/3, 11, 23)\n",
      "(1, 11, 24)\n",
      "(3/2, 11, 25)\n",
      "(18/11, 11, 26)\n",
      "(1, 11, 27)\n",
      "(3/2, 11, 28)\n"
     ]
    },
    {
     "name": "stdout",
     "output_type": "stream",
     "text": [
      "(3/2, 11, 29)\n",
      "(2, 11, 30)\n",
      "(18/13, 11, 31)\n",
      "(12/11, 11, 32)\n",
      "(3/2, 11, 33)\n",
      "(18/13, 11, 34)\n"
     ]
    },
    {
     "name": "stdout",
     "output_type": "stream",
     "text": [
      "(3/2, 11, 35)\n",
      "(6/5, 11, 36)\n",
      "(12/11, 11, 37)\n",
      "(18/11, 11, 38)\n"
     ]
    },
    {
     "name": "stdout",
     "output_type": "stream",
     "text": [
      "(12/11, 11, 39)\n",
      "(18/11, 11, 40)\n",
      "(3/2, 11, 41)\n",
      "(3/2, 11, 42)\n",
      "(6/5, 11, 43)\n"
     ]
    },
    {
     "name": "stdout",
     "output_type": "stream",
     "text": [
      "(2, 11, 44)\n",
      "(18/11, 11, 45)\n",
      "(4/3, 11, 46)\n",
      "(1, 11, 47)\n",
      "(1, 12, 12)\n",
      "(2/3, 12, 13)\n",
      "(6/5, 12, 14)\n",
      "(8/9, 12, 15)\n",
      "(6/5, 12, 16)\n"
     ]
    },
    {
     "name": "stdout",
     "output_type": "stream",
     "text": [
      "(8/9, 12, 17)\n",
      "(8/9, 12, 18)\n",
      "(4/3, 12, 19)\n",
      "(8/9, 12, 20)\n",
      "(6/5, 12, 21)\n",
      "(4/3, 12, 22)\n",
      "(1, 12, 23)\n"
     ]
    },
    {
     "name": "stdout",
     "output_type": "stream",
     "text": [
      "(2/3, 12, 24)\n",
      "(12/11, 12, 25)\n",
      "(12/11, 12, 26)\n"
     ]
    },
    {
     "name": "stdout",
     "output_type": "stream",
     "text": [
      "(4/5, 12, 27)\n",
      "(12/11, 12, 28)\n",
      "(12/11, 12, 29)\n"
     ]
    },
    {
     "name": "stdout",
     "output_type": "stream",
     "text": [
      "(16/11, 12, 30)\n",
      "(12/11, 12, 31)\n",
      "(4/5, 12, 32)\n"
     ]
    },
    {
     "name": "stdout",
     "output_type": "stream",
     "text": [
      "(12/11, 12, 33)\n",
      "(12/11, 12, 34)\n",
      "(12/11, 12, 35)\n"
     ]
    },
    {
     "name": "stdout",
     "output_type": "stream",
     "text": [
      "(8/9, 12, 36)\n",
      "(4/5, 12, 37)\n"
     ]
    },
    {
     "name": "stdout",
     "output_type": "stream",
     "text": [
      "(6/5, 12, 38)\n",
      "(4/5, 12, 39)\n",
      "(6/5, 12, 40)\n",
      "(12/11, 12, 41)\n",
      "(6/5, 12, 42)\n",
      "(8/9, 12, 43)\n",
      "(8/5, 12, 44)\n"
     ]
    },
    {
     "name": "stdout",
     "output_type": "stream",
     "text": [
      "(6/5, 12, 45)\n",
      "(1, 12, 46)\n",
      "(2/3, 12, 47)\n",
      "(1/3, 13, 13)\n",
      "(6/7, 13, 14)\n"
     ]
    },
    {
     "name": "stdout",
     "output_type": "stream",
     "text": [
      "(4/7, 13, 15)\n",
      "(6/7, 13, 16)\n",
      "(4/7, 13, 17)\n",
      "(4/7, 13, 18)\n",
      "(6/7, 13, 19)\n",
      "(4/7, 13, 20)\n"
     ]
    },
    {
     "name": "stdout",
     "output_type": "stream",
     "text": [
      "(6/7, 13, 21)\n",
      "(6/7, 13, 22)\n",
      "(4/7, 13, 23)\n",
      "(1/3, 13, 24)\n",
      "(3/4, 13, 25)\n",
      "(3/4, 13, 26)\n",
      "(1/2, 13, 27)\n",
      "(3/4, 13, 28)\n",
      "(3/4, 13, 29)\n",
      "(1, 13, 30)\n"
     ]
    },
    {
     "name": "stdout",
     "output_type": "stream",
     "text": [
      "(3/4, 13, 31)\n",
      "(1/2, 13, 32)\n",
      "(3/4, 13, 33)\n",
      "(3/4, 13, 34)\n"
     ]
    },
    {
     "name": "stdout",
     "output_type": "stream",
     "text": [
      "(3/4, 13, 35)\n",
      "(1/2, 13, 36)\n",
      "(1/2, 13, 37)\n",
      "(3/4, 13, 38)\n"
     ]
    },
    {
     "name": "stdout",
     "output_type": "stream",
     "text": [
      "(1/2, 13, 39)\n",
      "(3/4, 13, 40)\n",
      "(3/4, 13, 41)\n",
      "(3/4, 13, 42)\n",
      "(1/2, 13, 43)\n",
      "(1, 13, 44)\n"
     ]
    },
    {
     "name": "stdout",
     "output_type": "stream",
     "text": [
      "(3/4, 13, 45)\n",
      "(4/7, 13, 46)\n",
      "(1/3, 13, 47)\n",
      "(3/2, 14, 14)\n"
     ]
    },
    {
     "name": "stdout",
     "output_type": "stream",
     "text": [
      "(12/13, 14, 15)\n"
     ]
    },
    {
     "name": "stdout",
     "output_type": "stream",
     "text": [
      "(18/13, 14, 16)\n",
      "(12/11, 14, 17)\n"
     ]
    },
    {
     "name": "stdout",
     "output_type": "stream",
     "text": [
      "(12/13, 14, 18)\n",
      "(3/2, 14, 19)\n",
      "(1, 14, 20)\n"
     ]
    },
    {
     "name": "stdout",
     "output_type": "stream",
     "text": [
      "(3/2, 14, 21)\n"
     ]
    },
    {
     "name": "stdout",
     "output_type": "stream",
     "text": [
      "(3/2, 14, 22)\n",
      "(6/5, 14, 23)\n",
      "(6/7, 14, 24)\n"
     ]
    },
    {
     "name": "stdout",
     "output_type": "stream",
     "text": [
      "(9/7, 14, 25)\n",
      "(9/7, 14, 26)\n",
      "(6/7, 14, 27)\n",
      "(9/7, 14, 28)\n"
     ]
    },
    {
     "name": "stdout",
     "output_type": "stream",
     "text": [
      "(9/7, 14, 29)\n",
      "(12/7, 14, 30)\n"
     ]
    },
    {
     "name": "stdout",
     "output_type": "stream",
     "text": [
      "(9/7, 14, 31)\n"
     ]
    },
    {
     "name": "stdout",
     "output_type": "stream",
     "text": [
      "(12/13, 14, 32)\n",
      "(6/5, 14, 33)\n"
     ]
    },
    {
     "name": "stdout",
     "output_type": "stream",
     "text": [
      "(9/7, 14, 34)\n",
      "(9/7, 14, 35)\n",
      "(12/11, 14, 36)\n"
     ]
    },
    {
     "name": "stdout",
     "output_type": "stream",
     "text": [
      "(12/13, 14, 37)\n",
      "(9/7, 14, 38)\n"
     ]
    },
    {
     "name": "stdout",
     "output_type": "stream",
     "text": [
      "(6/7, 14, 39)\n",
      "(9/7, 14, 40)\n"
     ]
    },
    {
     "name": "stdout",
     "output_type": "stream",
     "text": [
      "(9/7, 14, 41)\n"
     ]
    },
    {
     "name": "stdout",
     "output_type": "stream",
     "text": [
      "(9/7, 14, 42)\n",
      "(1, 14, 43)\n",
      "(24/13, 14, 44)"
     ]
    },
    {
     "name": "stdout",
     "output_type": "stream",
     "text": [
      "\n",
      "(18/13, 14, 45)\n",
      "(6/5, 14, 46)\n",
      "(6/7, 14, 47)\n"
     ]
    },
    {
     "name": "stdout",
     "output_type": "stream",
     "text": [
      "(8/13, 15, 15)\n",
      "(1, 15, 16)\n",
      "(8/11, 15, 17)\n",
      "(8/13, 15, 18)"
     ]
    },
    {
     "name": "stdout",
     "output_type": "stream",
     "text": [
      "\n"
     ]
    },
    {
     "name": "stdout",
     "output_type": "stream",
     "text": [
      "(1, 15, 19)\n",
      "(8/11, 15, 20)\n",
      "(12/11, 15, 21)\n",
      "(12/11, 15, 22)\n",
      "(8/9, 15, 23)\n",
      "(4/7, 15, 24)\n",
      "(6/7, 15, 25)\n"
     ]
    },
    {
     "name": "stdout",
     "output_type": "stream",
     "text": [
      "(6/7, 15, 26)\n",
      "(4/7, 15, 27)"
     ]
    },
    {
     "name": "stdout",
     "output_type": "stream",
     "text": [
      "\n"
     ]
    },
    {
     "name": "stdout",
     "output_type": "stream",
     "text": [
      "(6/7, 15, 28)\n"
     ]
    },
    {
     "name": "stdout",
     "output_type": "stream",
     "text": [
      "(6/7, 15, 29)\n",
      "(8/7, 15, 30)\n"
     ]
    },
    {
     "name": "stdout",
     "output_type": "stream",
     "text": [
      "(6/7, 15, 31)\n",
      "(8/13, 15, 32)\n"
     ]
    },
    {
     "name": "stdout",
     "output_type": "stream",
     "text": [
      "(6/7, 15, 33)\n"
     ]
    },
    {
     "name": "stdout",
     "output_type": "stream",
     "text": [
      "(12/13, 15, 34)\n"
     ]
    },
    {
     "name": "stdout",
     "output_type": "stream",
     "text": [
      "(12/13, 15, 35)\n",
      "(8/11, 15, 36)\n",
      "(8/13, 15, 37)\n"
     ]
    },
    {
     "name": "stdout",
     "output_type": "stream",
     "text": [
      "(12/13, 15, 38)\n",
      "(8/13, 15, 39)\n",
      "(6/7, 15, 40)\n",
      "(12/13, 15, 41)"
     ]
    },
    {
     "name": "stdout",
     "output_type": "stream",
     "text": [
      "\n",
      "(12/13, 15, 42)\n",
      "(8/11, 15, 43)\n",
      "(16/13, 15, 44)\n"
     ]
    },
    {
     "name": "stdout",
     "output_type": "stream",
     "text": [
      "(12/11, 15, 45)\n",
      "(8/9, 15, 46)\n",
      "(4/7, 15, 47)\n",
      "(18/13, 16, 16)"
     ]
    },
    {
     "name": "stdout",
     "output_type": "stream",
     "text": [
      "\n",
      "(1, 16, 17)\n",
      "(1, 16, 18)\n",
      "(3/2, 16, 19)\n",
      "(1, 16, 20)\n"
     ]
    },
    {
     "name": "stdout",
     "output_type": "stream",
     "text": [
      "(3/2, 16, 21)\n",
      "(3/2, 16, 22)\n",
      "(6/5, 16, 23)\n",
      "(6/7, 16, 24)"
     ]
    },
    {
     "name": "stdout",
     "output_type": "stream",
     "text": [
      "\n",
      "(6/5, 16, 25)\n",
      "(9/7, 16, 26)"
     ]
    },
    {
     "name": "stdout",
     "output_type": "stream",
     "text": [
      "\n"
     ]
    },
    {
     "name": "stdout",
     "output_type": "stream",
     "text": [
      "(6/7, 16, 27)\n",
      "(6/5, 16, 28)\n",
      "(9/7, 16, 29)\n",
      "(8/5, 16, 30)\n",
      "(6/5, 16, 31)\n",
      "(12/13, 16, 32)"
     ]
    },
    {
     "name": "stdout",
     "output_type": "stream",
     "text": [
      "\n",
      "(9/7, 16, 33)\n",
      "(9/7, 16, 34)"
     ]
    },
    {
     "name": "stdout",
     "output_type": "stream",
     "text": [
      "\n",
      "(9/7, 16, 35)\n",
      "(1, 16, 36)\n",
      "(12/13, 16, 37)\n"
     ]
    },
    {
     "name": "stdout",
     "output_type": "stream",
     "text": [
      "(18/13, 16, 38)\n",
      "(12/13, 16, 39)\n",
      "(9/7, 16, 40)\n"
     ]
    },
    {
     "name": "stdout",
     "output_type": "stream",
     "text": [
      "(9/7, 16, 41)\n",
      "(9/7, 16, 42)\n",
      "(1, 16, 43)\n",
      "(12/7, 16, 44)\n",
      "(18/13, 16, 45)\n",
      "(6/5, 16, 46)\n",
      "(6/7, 16, 47)\n"
     ]
    },
    {
     "name": "stdout",
     "output_type": "stream",
     "text": [
      "(8/11, 17, 17)\n",
      "(8/11, 17, 18)\n"
     ]
    },
    {
     "name": "stdout",
     "output_type": "stream",
     "text": [
      "(1, 17, 19)\n",
      "(8/11, 17, 20)\n",
      "(12/11, 17, 21)\n",
      "(12/11, 17, 22)\n",
      "(8/9, 17, 23)\n",
      "(4/7, 17, 24)\n"
     ]
    },
    {
     "name": "stdout",
     "output_type": "stream",
     "text": [
      "(12/13, 17, 25)\n"
     ]
    },
    {
     "name": "stdout",
     "output_type": "stream",
     "text": [
      "(12/13, 17, 26)\n",
      "(2/3, 17, 27)\n"
     ]
    },
    {
     "name": "stdout",
     "output_type": "stream",
     "text": [
      "(12/13, 17, 28)\n",
      "(12/13, 17, 29)\n",
      "(8/7, 17, 30)\n",
      "(12/13, 17, 31)\n",
      "(2/3, 17, 32)"
     ]
    },
    {
     "name": "stdout",
     "output_type": "stream",
     "text": [
      "\n",
      "(12/13, 17, 33)\n"
     ]
    },
    {
     "name": "stdout",
     "output_type": "stream",
     "text": [
      "(12/13, 17, 34)\n",
      "(12/13, 17, 35)\n",
      "(8/11, 17, 36)\n",
      "(2/3, 17, 37)\n",
      "(12/13, 17, 38)\n"
     ]
    },
    {
     "name": "stdout",
     "output_type": "stream",
     "text": [
      "(2/3, 17, 39)\n",
      "(12/13, 17, 40)\n"
     ]
    },
    {
     "name": "stdout",
     "output_type": "stream",
     "text": [
      "(12/13, 17, 41)\n",
      "(12/13, 17, 42)\n",
      "(8/11, 17, 43)\n",
      "(4/3, 17, 44)\n",
      "(12/11, 17, 45)\n",
      "(8/9, 17, 46)\n",
      "(4/7, 17, 47)\n",
      "(8/13, 18, 18)\n"
     ]
    },
    {
     "name": "stdout",
     "output_type": "stream",
     "text": [
      "(1, 18, 19)\n",
      "(8/11, 18, 20)\n",
      "(12/11, 18, 21)\n",
      "(12/11, 18, 22)\n",
      "(8/9, 18, 23)\n",
      "(4/7, 18, 24)\n",
      "(6/7, 18, 25)\n"
     ]
    },
    {
     "name": "stdout",
     "output_type": "stream",
     "text": [
      "(6/7, 18, 26)\n",
      "(4/7, 18, 27)\n"
     ]
    },
    {
     "name": "stdout",
     "output_type": "stream",
     "text": [
      "(6/7, 18, 28)\n"
     ]
    },
    {
     "name": "stdout",
     "output_type": "stream",
     "text": [
      "(6/7, 18, 29)\n",
      "(8/7, 18, 30)\n"
     ]
    },
    {
     "name": "stdout",
     "output_type": "stream",
     "text": [
      "(6/7, 18, 31)\n"
     ]
    },
    {
     "name": "stdout",
     "output_type": "stream",
     "text": [
      "(8/13, 18, 32)\n",
      "(6/7, 18, 33)\n",
      "(12/13, 18, 34)\n",
      "(12/13, 18, 35)"
     ]
    },
    {
     "name": "stdout",
     "output_type": "stream",
     "text": [
      "\n",
      "(8/11, 18, 36)\n"
     ]
    },
    {
     "name": "stdout",
     "output_type": "stream",
     "text": [
      "(8/13, 18, 37)\n",
      "(12/13, 18, 38)\n",
      "(2/3, 18, 39)\n"
     ]
    },
    {
     "name": "stdout",
     "output_type": "stream",
     "text": [
      "(6/7, 18, 40)\n",
      "(12/13, 18, 41)\n",
      "(12/13, 18, 42)\n",
      "(8/11, 18, 43)\n",
      "(4/3, 18, 44)\n",
      "(12/11, 18, 45)\n"
     ]
    },
    {
     "name": "stdout",
     "output_type": "stream",
     "text": [
      "(8/9, 18, 46)\n",
      "(4/7, 18, 47)\n",
      "(3/2, 19, 19)\n",
      "(12/11, 19, 20)"
     ]
    },
    {
     "name": "stdout",
     "output_type": "stream",
     "text": [
      "\n",
      "(3/2, 19, 21)\n",
      "(18/11, 19, 22)\n",
      "(6/5, 19, 23)\n",
      "(6/7, 19, 24)\n"
     ]
    },
    {
     "name": "stdout",
     "output_type": "stream",
     "text": [
      "(9/7, 19, 25)\n",
      "(18/13, 19, 26)\n"
     ]
    },
    {
     "name": "stdout",
     "output_type": "stream",
     "text": [
      "(6/7, 19, 27)\n",
      "(9/7, 19, 28)\n"
     ]
    },
    {
     "name": "stdout",
     "output_type": "stream",
     "text": [
      "(9/7, 19, 29)\n",
      "(12/7, 19, 30)\n"
     ]
    },
    {
     "name": "stdout",
     "output_type": "stream",
     "text": [
      "(6/5, 19, 31)\n"
     ]
    },
    {
     "name": "stdout",
     "output_type": "stream",
     "text": [
      "(12/13, 19, 32)\n"
     ]
    },
    {
     "name": "stdout",
     "output_type": "stream",
     "text": [
      "(9/7, 19, 33)\n",
      "(9/7, 19, 34)\n",
      "(18/13, 19, 35)\n"
     ]
    },
    {
     "name": "stdout",
     "output_type": "stream",
     "text": [
      "(1, 19, 36)\n",
      "(12/13, 19, 37)\n",
      "(18/13, 19, 38)\n"
     ]
    },
    {
     "name": "stdout",
     "output_type": "stream",
     "text": [
      "(1, 19, 39)\n",
      "(18/13, 19, 40)\n",
      "(9/7, 19, 41)\n"
     ]
    },
    {
     "name": "stdout",
     "output_type": "stream",
     "text": [
      "(18/13, 19, 42)\n",
      "(1, 19, 43)\n",
      "(24/13, 19, 44)\n",
      "(3/2, 19, 45)\n",
      "(6/5, 19, 46)\n",
      "(6/7, 19, 47)\n",
      "(4/5, 20, 20)\n",
      "(12/11, 20, 21)\n"
     ]
    },
    {
     "name": "stdout",
     "output_type": "stream",
     "text": [
      "(12/11, 20, 22)\n",
      "(8/9, 20, 23)\n",
      "(4/7, 20, 24)\n",
      "(6/7, 20, 25)\n"
     ]
    },
    {
     "name": "stdout",
     "output_type": "stream",
     "text": [
      "(12/13, 20, 26)\n",
      "(2/3, 20, 27)\n",
      "(12/13, 20, 28)\n",
      "(12/13, 20, 29)\n"
     ]
    },
    {
     "name": "stdout",
     "output_type": "stream",
     "text": [
      "(16/13, 20, 30)\n",
      "(12/13, 20, 31)\n",
      "(2/3, 20, 32)\n"
     ]
    },
    {
     "name": "stderr",
     "output_type": "stream",
     "text": [
      "WARNING: Some output was deleted.\n"
     ]
    }
   ],
   "source": [
    "w = []\n",
    "for i in range(1, 48):\n",
    "    for j in range(i, 48):\n",
    "        w.append((graf(T[i], T[j], 2), i, j))\n",
    "        print(graf(T[i], T[j], 2), i, j)\n",
    "print(w)\n",
    "#v 12 urah ne izračuna nobenega grafa za 8 vozlišč drevesa"
   ]
  },
  {
   "cell_type": "code",
   "execution_count": 3,
   "metadata": {
    "collapsed": false,
    "scrolled": true
   },
   "outputs": [
    {
     "name": "stdout",
     "output_type": "stream",
     "text": [
      "(1, 1, 1)\n",
      "(6/5, 1, 2)\n",
      "(4/3, 1, 3)\n",
      "(1, 1, 4)\n"
     ]
    },
    {
     "name": "stdout",
     "output_type": "stream",
     "text": [
      "(5/4, 1, 5)\n",
      "(5/4, 1, 6)\n",
      "(1, 1, 7)\n"
     ]
    },
    {
     "name": "stdout",
     "output_type": "stream",
     "text": [
      "(4/3, 1, 8)\n",
      "(10/9, 1, 9)\n",
      "(6/5, 1, 10)\n"
     ]
    },
    {
     "name": "stdout",
     "output_type": "stream",
     "text": [
      "(4/3, 1, 11)\n",
      "(5/4, 1, 12)\n",
      "(1, 1, 13)\n"
     ]
    },
    {
     "name": "stdout",
     "output_type": "stream",
     "text": [
      "(6/5, 1, 14)\n",
      "(12/11, 1, 15)\n",
      "(14/11, 1, 16)\n",
      "(1, 1, 17)\n"
     ]
    },
    {
     "name": "stdout",
     "output_type": "stream",
     "text": [
      "(6/5, 1, 18)\n"
     ]
    },
    {
     "name": "stdout",
     "output_type": "stream",
     "text": [
      "(14/11, 1, 19)\n",
      "(6/5, 1, 20)\n"
     ]
    },
    {
     "name": "stdout",
     "output_type": "stream",
     "text": [
      "(6/5, 1, 21)\n",
      "(7/5, 1, 22)\n",
      "(5/4, 1, 23)\n",
      "(1, 1, 24)\n",
      "(9/7, 2, 2)\n"
     ]
    },
    {
     "name": "stdout",
     "output_type": "stream",
     "text": [
      "(3/2, 2, 3)\n",
      "(9/8, 2, 4)\n",
      "(15/11, 2, 5)\n",
      "(3/2, 2, 6)\n",
      "(1, 2, 7)\n"
     ]
    },
    {
     "name": "stdout",
     "output_type": "stream",
     "text": [
      "(18/13, 2, 8)\n",
      "(15/13, 2, 9)\n",
      "(3/2, 2, 10)\n"
     ]
    },
    {
     "name": "stdout",
     "output_type": "stream",
     "text": [
      "(3/2, 2, 11)\n",
      "(5/4, 2, 12)\n",
      "(1, 2, 13)\n",
      "(9/7, 2, 14)\n"
     ]
    },
    {
     "name": "stdout",
     "output_type": "stream",
     "text": [
      "(6/5, 2, 15)\n"
     ]
    },
    {
     "name": "stdout",
     "output_type": "stream",
     "text": [
      "(7/5, 2, 16)\n",
      "(15/14, 2, 17)\n"
     ]
    },
    {
     "name": "stdout",
     "output_type": "stream",
     "text": [
      "(6/5, 2, 18)\n"
     ]
    },
    {
     "name": "stdout",
     "output_type": "stream",
     "text": [
      "(3/2, 2, 19)\n",
      "(9/7, 2, 20)\n"
     ]
    },
    {
     "name": "stdout",
     "output_type": "stream",
     "text": [
      "(6/5, 2, 21)\n",
      "(3/2, 2, 22)\n",
      "(5/4, 2, 23)\n",
      "(1, 2, 24)\n"
     ]
    },
    {
     "name": "stdout",
     "output_type": "stream",
     "text": [
      "(4/3, 3, 3)\n",
      "(6/5, 3, 4)\n"
     ]
    },
    {
     "name": "stdout",
     "output_type": "stream",
     "text": [
      "(20/13, 3, 5)\n"
     ]
    },
    {
     "name": "stdout",
     "output_type": "stream",
     "text": [
      "(10/7, 3, 6)\n",
      "(1, 3, 7)\n"
     ]
    },
    {
     "name": "stdout",
     "output_type": "stream",
     "text": [
      "(3/2, 3, 8)\n",
      "(5/4, 3, 9)\n",
      "(3/2, 3, 10)"
     ]
    },
    {
     "name": "stdout",
     "output_type": "stream",
     "text": [
      "\n"
     ]
    },
    {
     "name": "stdout",
     "output_type": "stream",
     "text": [
      "(24/17, 3, 11)\n"
     ]
    },
    {
     "name": "stdout",
     "output_type": "stream",
     "text": [
      "(5/4, 3, 12)\n",
      "(1, 3, 13)\n"
     ]
    },
    {
     "name": "stdout",
     "output_type": "stream",
     "text": [
      "(4/3, 3, 14)\n"
     ]
    },
    {
     "name": "stdout",
     "output_type": "stream",
     "text": [
      "(4/3, 3, 15)\n",
      "(28/19, 3, 16)\n"
     ]
    },
    {
     "name": "stdout",
     "output_type": "stream",
     "text": [
      "(10/9, 3, 17)\n"
     ]
    },
    {
     "name": "stdout",
     "output_type": "stream",
     "text": [
      "(4/3, 3, 18)\n"
     ]
    },
    {
     "name": "stdout",
     "output_type": "stream",
     "text": [
      "(28/19, 3, 19)\n",
      "(4/3, 3, 20)\n"
     ]
    },
    {
     "name": "stdout",
     "output_type": "stream",
     "text": [
      "(4/3, 3, 21)\n",
      "(28/19, 3, 22)\n",
      "(5/4, 3, 23)\n"
     ]
    },
    {
     "name": "stdout",
     "output_type": "stream",
     "text": [
      "(1, 3, 24)\n",
      "(9/10, 4, 4)\n"
     ]
    },
    {
     "name": "stdout",
     "output_type": "stream",
     "text": [
      "(15/13, 4, 5)\n",
      "(5/4, 4, 6)\n"
     ]
    },
    {
     "name": "stdout",
     "output_type": "stream",
     "text": [
      "(9/11, 4, 7)\n"
     ]
    },
    {
     "name": "stdout",
     "output_type": "stream",
     "text": [
      "(9/8, 4, 8)\n",
      "(1, 4, 9)\n",
      "(9/7, 4, 10)\n",
      "(6/5, 4, 11)\n"
     ]
    },
    {
     "name": "stdout",
     "output_type": "stream",
     "text": [
      "(15/14, 4, 12)\n",
      "(3/4, 4, 13)\n"
     ]
    },
    {
     "name": "stdout",
     "output_type": "stream",
     "text": [
      "(1, 4, 14)\n"
     ]
    },
    {
     "name": "stdout",
     "output_type": "stream",
     "text": [
      "(1, 4, 15)\n",
      "(7/6, 4, 16)\n"
     ]
    },
    {
     "name": "stdout",
     "output_type": "stream",
     "text": [
      "(15/17, 4, 17)\n"
     ]
    },
    {
     "name": "stdout",
     "output_type": "stream",
     "text": [
      "(1, 4, 18)\n"
     ]
    },
    {
     "name": "stdout",
     "output_type": "stream",
     "text": [
      "(21/17, 4, 19)\n",
      "(9/8, 4, 20)\n"
     ]
    },
    {
     "name": "stdout",
     "output_type": "stream",
     "text": [
      "(1, 4, 21)\n",
      "(21/17, 4, 22)\n",
      "(1, 4, 23)\n",
      "(3/4, 4, 24)\n",
      "(25/17, 5, 5)\n"
     ]
    },
    {
     "name": "stdout",
     "output_type": "stream",
     "text": [
      "(25/16, 5, 6)\n",
      "(1, 5, 7)\n"
     ]
    },
    {
     "name": "stdout",
     "output_type": "stream",
     "text": [
      "(3/2, 5, 8)\n"
     ]
    },
    {
     "name": "stdout",
     "output_type": "stream",
     "text": [
      "(5/4, 5, 9)\n"
     ]
    },
    {
     "name": "stdout",
     "output_type": "stream",
     "text": [
      "(3/2, 5, 10)\n",
      "(30/19, 5, 11)\n"
     ]
    },
    {
     "name": "stdout",
     "output_type": "stream",
     "text": [
      "(25/19, 5, 12)\n",
      "(1, 5, 13)\n"
     ]
    },
    {
     "name": "stdout",
     "output_type": "stream",
     "text": [
      "(15/11, 5, 14)\n"
     ]
    },
    {
     "name": "stdout",
     "output_type": "stream",
     "text": [
      "(30/23, 5, 15)\n",
      "(35/23, 5, 16)\n",
      "(25/23, 5, 17)"
     ]
    },
    {
     "name": "stdout",
     "output_type": "stream",
     "text": [
      "\n",
      "(30/23, 5, 18)\n"
     ]
    },
    {
     "name": "stdout",
     "output_type": "stream",
     "text": [
      "(35/23, 5, 19)\n",
      "(15/11, 5, 20)\n"
     ]
    },
    {
     "name": "stdout",
     "output_type": "stream",
     "text": [
      "(15/11, 5, 21)\n"
     ]
    },
    {
     "name": "stdout",
     "output_type": "stream",
     "text": [
      "(35/22, 5, 22)\n",
      "(5/4, 5, 23)\n",
      "(1, 5, 24)\n"
     ]
    },
    {
     "name": "stdout",
     "output_type": "stream",
     "text": [
      "(25/17, 6, 6)\n",
      "(15/14, 6, 7)\n"
     ]
    },
    {
     "name": "stdout",
     "output_type": "stream",
     "text": [
      "(3/2, 6, 8)\n"
     ]
    },
    {
     "name": "stdout",
     "output_type": "stream",
     "text": [
      "(25/19, 6, 9)\n"
     ]
    },
    {
     "name": "stdout",
     "output_type": "stream",
     "text": [
      "(3/2, 6, 10)\n"
     ]
    },
    {
     "name": "stdout",
     "output_type": "stream",
     "text": [
      "(3/2, 6, 11)\n"
     ]
    },
    {
     "name": "stdout",
     "output_type": "stream",
     "text": [
      "(25/19, 6, 12)\n",
      "(1, 6, 13)\n"
     ]
    },
    {
     "name": "stdout",
     "output_type": "stream",
     "text": [
      "(30/23, 6, 14)\n"
     ]
    },
    {
     "name": "stdout",
     "output_type": "stream",
     "text": [
      "(15/11, 6, 15)\n"
     ]
    },
    {
     "name": "stdout",
     "output_type": "stream",
     "text": [
      "(35/23, 6, 16)\n"
     ]
    },
    {
     "name": "stdout",
     "output_type": "stream",
     "text": [
      "(25/21, 6, 17)\n"
     ]
    },
    {
     "name": "stdout",
     "output_type": "stream",
     "text": [
      "(15/11, 6, 18)\n",
      "(35/23, 6, 19)\n"
     ]
    },
    {
     "name": "stdout",
     "output_type": "stream",
     "text": [
      "(15/11, 6, 20)\n"
     ]
    },
    {
     "name": "stdout",
     "output_type": "stream",
     "text": [
      "(15/11, 6, 21)\n"
     ]
    },
    {
     "name": "stdout",
     "output_type": "stream",
     "text": [
      "(35/23, 6, 22)\n"
     ]
    },
    {
     "name": "stdout",
     "output_type": "stream",
     "text": [
      "(5/4, 6, 23)\n",
      "(1, 6, 24)\n",
      "(9/13, 7, 7)\n"
     ]
    },
    {
     "name": "stdout",
     "output_type": "stream",
     "text": [
      "(1, 7, 8)\n",
      "(15/17, 7, 9)\n",
      "(9/8, 7, 10)\n"
     ]
    },
    {
     "name": "stdout",
     "output_type": "stream",
     "text": [
      "(18/17, 7, 11)\n",
      "(15/16, 7, 12)\n",
      "(9/14, 7, 13)\n"
     ]
    },
    {
     "name": "stdout",
     "output_type": "stream",
     "text": [
      "(6/7, 7, 14)\n"
     ]
    },
    {
     "name": "stdout",
     "output_type": "stream",
     "text": [
      "(9/10, 7, 15)\n",
      "(21/20, 7, 16)\n",
      "(15/19, 7, 17)\n"
     ]
    },
    {
     "name": "stdout",
     "output_type": "stream",
     "text": [
      "(9/10, 7, 18)\n",
      "(21/19, 7, 19)\n",
      "(1, 7, 20)\n"
     ]
    },
    {
     "name": "stdout",
     "output_type": "stream",
     "text": [
      "(9/10, 7, 21)\n"
     ]
    },
    {
     "name": "stdout",
     "output_type": "stream",
     "text": [
      "(21/19, 7, 22)\n",
      "(15/17, 7, 23)\n",
      "(3/5, 7, 24)\n"
     ]
    },
    {
     "name": "stdout",
     "output_type": "stream",
     "text": [
      "(3/2, 8, 8)\n"
     ]
    },
    {
     "name": "stdout",
     "output_type": "stream",
     "text": [
      "(5/4, 8, 9)\n"
     ]
    },
    {
     "name": "stdout",
     "output_type": "stream",
     "text": [
      "(3/2, 8, 10)\n",
      "(3/2, 8, 11)\n"
     ]
    },
    {
     "name": "stdout",
     "output_type": "stream",
     "text": [
      "(30/23, 8, 12)\n",
      "(1, 8, 13)\n"
     ]
    },
    {
     "name": "stdout",
     "output_type": "stream",
     "text": [
      "(9/7, 8, 14)\n",
      "(9/7, 8, 15)\n"
     ]
    },
    {
     "name": "stdout",
     "output_type": "stream",
     "text": [
      "(3/2, 8, 16)\n"
     ]
    },
    {
     "name": "stdout",
     "output_type": "stream",
     "text": [
      "(10/9, 8, 17)\n"
     ]
    },
    {
     "name": "stdout",
     "output_type": "stream",
     "text": [
      "(9/7, 8, 18)\n"
     ]
    },
    {
     "name": "stdout",
     "output_type": "stream",
     "text": [
      "(3/2, 8, 19)\n"
     ]
    },
    {
     "name": "stdout",
     "output_type": "stream",
     "text": [
      "(4/3, 8, 20)\n"
     ]
    },
    {
     "name": "stdout",
     "output_type": "stream",
     "text": [
      "(4/3, 8, 21)\n"
     ]
    },
    {
     "name": "stdout",
     "output_type": "stream",
     "text": [
      "(14/9, 8, 22)\n"
     ]
    },
    {
     "name": "stdout",
     "output_type": "stream",
     "text": [
      "(5/4, 8, 23)\n",
      "(1, 8, 24)\n"
     ]
    },
    {
     "name": "stdout",
     "output_type": "stream",
     "text": [
      "(25/23, 9, 9)\n"
     ]
    },
    {
     "name": "stdout",
     "output_type": "stream",
     "text": [
      "(30/23, 9, 10)\n"
     ]
    },
    {
     "name": "stdout",
     "output_type": "stream",
     "text": [
      "(30/23, 9, 11)\n"
     ]
    },
    {
     "name": "stdout",
     "output_type": "stream",
     "text": [
      "(25/22, 9, 12)\n",
      "(5/6, 9, 13)\n"
     ]
    },
    {
     "name": "stdout",
     "output_type": "stream",
     "text": [
      "(10/9, 9, 14)\n"
     ]
    },
    {
     "name": "stdout",
     "output_type": "stream",
     "text": [
      "(10/9, 9, 15)\n"
     ]
    },
    {
     "name": "stdout",
     "output_type": "stream",
     "text": [
      "(35/27, 9, 16)\n"
     ]
    },
    {
     "name": "stdout",
     "output_type": "stream",
     "text": [
      "(25/26, 9, 17)\n"
     ]
    },
    {
     "name": "stdout",
     "output_type": "stream",
     "text": [
      "(10/9, 9, 18)\n"
     ]
    },
    {
     "name": "stdout",
     "output_type": "stream",
     "text": [
      "(35/27, 9, 19)\n"
     ]
    },
    {
     "name": "stdout",
     "output_type": "stream",
     "text": [
      "(15/13, 9, 20)\n"
     ]
    },
    {
     "name": "stdout",
     "output_type": "stream",
     "text": [
      "(10/9, 9, 21)\n"
     ]
    },
    {
     "name": "stdout",
     "output_type": "stream",
     "text": [
      "(35/26, 9, 22)\n"
     ]
    },
    {
     "name": "stdout",
     "output_type": "stream",
     "text": [
      "(25/23, 9, 23)\n",
      "(5/6, 9, 24)\n"
     ]
    },
    {
     "name": "stdout",
     "output_type": "stream",
     "text": [
      "(3/2, 10, 10)\n"
     ]
    },
    {
     "name": "stdout",
     "output_type": "stream",
     "text": [
      "(3/2, 10, 11)\n"
     ]
    },
    {
     "name": "stdout",
     "output_type": "stream",
     "text": [
      "(15/11, 10, 12)\n",
      "(1, 10, 13)\n"
     ]
    },
    {
     "name": "stdout",
     "output_type": "stream",
     "text": [
      "(4/3, 10, 14)\n"
     ]
    },
    {
     "name": "stdout",
     "output_type": "stream",
     "text": [
      "(18/13, 10, 15)\n"
     ]
    },
    {
     "name": "stdout",
     "output_type": "stream",
     "text": [
      "(3/2, 10, 16)\n"
     ]
    },
    {
     "name": "stdout",
     "output_type": "stream",
     "text": [
      "(6/5, 10, 17)\n"
     ]
    },
    {
     "name": "stdout",
     "output_type": "stream",
     "text": [
      "(18/13, 10, 18)\n",
      "(3/2, 10, 19)\n",
      "(18/13, 10, 20)\n"
     ]
    },
    {
     "name": "stdout",
     "output_type": "stream",
     "text": [
      "(9/7, 10, 21)\n"
     ]
    },
    {
     "name": "stdout",
     "output_type": "stream",
     "text": [
      "(14/9, 10, 22)\n"
     ]
    },
    {
     "name": "stdout",
     "output_type": "stream",
     "text": [
      "(5/4, 10, 23)\n",
      "(1, 10, 24)\n"
     ]
    },
    {
     "name": "stdout",
     "output_type": "stream",
     "text": [
      "(3/2, 11, 11)\n"
     ]
    },
    {
     "name": "stdout",
     "output_type": "stream",
     "text": [
      "(30/23, 11, 12)\n",
      "(1, 11, 13)\n"
     ]
    },
    {
     "name": "stdout",
     "output_type": "stream",
     "text": [
      "(4/3, 11, 14)\n"
     ]
    },
    {
     "name": "stdout",
     "output_type": "stream",
     "text": [
      "(4/3, 11, 15)\n"
     ]
    },
    {
     "name": "stdout",
     "output_type": "stream",
     "text": [
      "(3/2, 11, 16)\n"
     ]
    },
    {
     "name": "stdout",
     "output_type": "stream",
     "text": [
      "(15/13, 11, 17)\n"
     ]
    },
    {
     "name": "stdout",
     "output_type": "stream",
     "text": [
      "(4/3, 11, 18)\n"
     ]
    },
    {
     "name": "stdout",
     "output_type": "stream",
     "text": [
      "(3/2, 11, 19)\n"
     ]
    },
    {
     "name": "stdout",
     "output_type": "stream",
     "text": [
      "(4/3, 11, 20)\n"
     ]
    },
    {
     "name": "stdout",
     "output_type": "stream",
     "text": [
      "(18/13, 11, 21)\n"
     ]
    },
    {
     "name": "stdout",
     "output_type": "stream",
     "text": [
      "(3/2, 11, 22)\n"
     ]
    },
    {
     "name": "stdout",
     "output_type": "stream",
     "text": [
      "(5/4, 11, 23)\n",
      "(1, 11, 24)\n"
     ]
    },
    {
     "name": "stdout",
     "output_type": "stream",
     "text": [
      "(25/21, 12, 12)\n",
      "(15/17, 12, 13)\n"
     ]
    },
    {
     "name": "stdout",
     "output_type": "stream",
     "text": [
      "(10/9, 12, 14)\n"
     ]
    },
    {
     "name": "stdout",
     "output_type": "stream",
     "text": [
      "(15/13, 12, 15)\n"
     ]
    },
    {
     "name": "stdout",
     "output_type": "stream",
     "text": [
      "(35/26, 12, 16)\n"
     ]
    },
    {
     "name": "stdout",
     "output_type": "stream",
     "text": [
      "(25/24, 12, 17)\n"
     ]
    },
    {
     "name": "stdout",
     "output_type": "stream",
     "text": [
      "(6/5, 12, 18)\n"
     ]
    },
    {
     "name": "stdout",
     "output_type": "stream",
     "text": [
      "(35/26, 12, 19)\n"
     ]
    },
    {
     "name": "stdout",
     "output_type": "stream",
     "text": [
      "(5/4, 12, 20)\n"
     ]
    },
    {
     "name": "stdout",
     "output_type": "stream",
     "text": [
      "(15/13, 12, 21)\n",
      "(7/5, 12, 22)\n"
     ]
    },
    {
     "name": "stdout",
     "output_type": "stream",
     "text": [
      "(25/22, 12, 23)\n",
      "(5/6, 12, 24)\n",
      "(9/16, 13, 13)\n",
      "(6/7, 13, 14)\n"
     ]
    },
    {
     "name": "stdout",
     "output_type": "stream",
     "text": [
      "(6/7, 13, 15)\n",
      "(1, 13, 16)\n",
      "(3/4, 13, 17)\n"
     ]
    },
    {
     "name": "stdout",
     "output_type": "stream",
     "text": [
      "(6/7, 13, 18)\n",
      "(1, 13, 19)\n",
      "(9/10, 13, 20)\n"
     ]
    },
    {
     "name": "stdout",
     "output_type": "stream",
     "text": [
      "(6/7, 13, 21)\n",
      "(21/20, 13, 22)\n"
     ]
    },
    {
     "name": "stdout",
     "output_type": "stream",
     "text": [
      "(15/19, 13, 23)\n",
      "(9/17, 13, 24)\n"
     ]
    },
    {
     "name": "stdout",
     "output_type": "stream",
     "text": [
      "(36/31, 14, 14)\n"
     ]
    },
    {
     "name": "stdout",
     "output_type": "stream",
     "text": [
      "(9/8, 14, 15)\n"
     ]
    },
    {
     "name": "stdout",
     "output_type": "stream",
     "text": [
      "(21/16, 14, 16)\n",
      "(30/31, 14, 17)\n",
      "(9/8, 14, 18)\n"
     ]
    },
    {
     "name": "stdout",
     "output_type": "stream",
     "text": [
      "(21/16, 14, 19)\n"
     ]
    },
    {
     "name": "stdout",
     "output_type": "stream",
     "text": [
      "(36/31, 14, 20)\n"
     ]
    },
    {
     "name": "stdout",
     "output_type": "stream",
     "text": [
      "(6/5, 14, 21)\n"
     ]
    },
    {
     "name": "stdout",
     "output_type": "stream",
     "text": [
      "(21/16, 14, 22)\n"
     ]
    },
    {
     "name": "stdout",
     "output_type": "stream",
     "text": [
      "(10/9, 14, 23)\n",
      "(6/7, 14, 24)\n"
     ]
    },
    {
     "name": "stdout",
     "output_type": "stream",
     "text": [
      "(9/8, 15, 15)\n"
     ]
    },
    {
     "name": "stdout",
     "output_type": "stream",
     "text": [
      "(42/31, 15, 16)\n"
     ]
    },
    {
     "name": "stdout",
     "output_type": "stream",
     "text": [
      "(1, 15, 17)\n"
     ]
    },
    {
     "name": "stdout",
     "output_type": "stream",
     "text": [
      "(36/31, 15, 18)\n"
     ]
    },
    {
     "name": "stdout",
     "output_type": "stream",
     "text": [
      "(42/31, 15, 19)\n"
     ]
    },
    {
     "name": "stdout",
     "output_type": "stream",
     "text": [
      "(6/5, 15, 20)\n"
     ]
    },
    {
     "name": "stdout",
     "output_type": "stream",
     "text": [
      "(36/31, 15, 21)\n"
     ]
    },
    {
     "name": "stdout",
     "output_type": "stream",
     "text": [
      "(42/31, 15, 22)\n"
     ]
    },
    {
     "name": "stdout",
     "output_type": "stream",
     "text": [
      "(10/9, 15, 23)\n",
      "(6/7, 15, 24)\n"
     ]
    },
    {
     "name": "stdout",
     "output_type": "stream",
     "text": [
      "(49/32, 16, 16)\n"
     ]
    },
    {
     "name": "stdout",
     "output_type": "stream",
     "text": [
      "(7/6, 16, 17)\n"
     ]
    },
    {
     "name": "stdout",
     "output_type": "stream",
     "text": [
      "(42/31, 16, 18)\n"
     ]
    },
    {
     "name": "stdout",
     "output_type": "stream",
     "text": [
      "(49/32, 16, 19)\n"
     ]
    },
    {
     "name": "stdout",
     "output_type": "stream",
     "text": [
      "(42/31, 16, 20)\n"
     ]
    },
    {
     "name": "stdout",
     "output_type": "stream",
     "text": [
      "(42/31, 16, 21)\n"
     ]
    },
    {
     "name": "stdout",
     "output_type": "stream",
     "text": [
      "(49/31, 16, 22)\n"
     ]
    },
    {
     "name": "stdout",
     "output_type": "stream",
     "text": [
      "(5/4, 16, 23)\n",
      "(1, 16, 24)\n"
     ]
    },
    {
     "name": "stdout",
     "output_type": "stream",
     "text": [
      "(25/29, 17, 17)\n"
     ]
    },
    {
     "name": "stdout",
     "output_type": "stream",
     "text": [
      "(1, 17, 18)\n",
      "(35/29, 17, 19)\n"
     ]
    },
    {
     "name": "stdout",
     "output_type": "stream",
     "text": [
      "(15/14, 17, 20)\n",
      "(1, 17, 21)\n"
     ]
    },
    {
     "name": "stdout",
     "output_type": "stream",
     "text": [
      "(35/29, 17, 22)\n",
      "(1, 17, 23)\n",
      "(5/7, 17, 24)\n"
     ]
    },
    {
     "name": "stdout",
     "output_type": "stream",
     "text": [
      "(6/5, 18, 18)\n",
      "(42/31, 18, 19)\n"
     ]
    },
    {
     "name": "stdout",
     "output_type": "stream",
     "text": [
      "(6/5, 18, 20)\n"
     ]
    },
    {
     "name": "stdout",
     "output_type": "stream",
     "text": [
      "(36/31, 18, 21)\n"
     ]
    },
    {
     "name": "stdout",
     "output_type": "stream",
     "text": [
      "(7/5, 18, 22)\n"
     ]
    },
    {
     "name": "stdout",
     "output_type": "stream",
     "text": [
      "(10/9, 18, 23)\n",
      "(6/7, 18, 24)\n"
     ]
    },
    {
     "name": "stdout",
     "output_type": "stream",
     "text": [
      "(49/33, 19, 19)\n"
     ]
    },
    {
     "name": "stdout",
     "output_type": "stream",
     "text": [
      "(42/31, 19, 20)\n"
     ]
    },
    {
     "name": "stdout",
     "output_type": "stream",
     "text": [
      "(21/16, 19, 21)\n"
     ]
    },
    {
     "name": "stdout",
     "output_type": "stream",
     "text": [
      "(49/32, 19, 22)\n"
     ]
    },
    {
     "name": "stdout",
     "output_type": "stream",
     "text": [
      "(5/4, 19, 23)\n",
      "(1, 19, 24)\n",
      "(36/29, 20, 20)\n"
     ]
    },
    {
     "name": "stdout",
     "output_type": "stream",
     "text": [
      "(9/8, 20, 21)\n",
      "(7/5, 20, 22)\n"
     ]
    },
    {
     "name": "stdout",
     "output_type": "stream",
     "text": [
      "(15/13, 20, 23)\n",
      "(6/7, 20, 24)\n"
     ]
    },
    {
     "name": "stdout",
     "output_type": "stream",
     "text": [
      "(36/31, 21, 21)\n"
     ]
    },
    {
     "name": "stdout",
     "output_type": "stream",
     "text": [
      "(7/5, 21, 22)\n",
      "(10/9, 21, 23)\n",
      "(6/7, 21, 24)\n"
     ]
    },
    {
     "name": "stdout",
     "output_type": "stream",
     "text": [
      "(49/32, 22, 22)\n"
     ]
    },
    {
     "name": "stdout",
     "output_type": "stream",
     "text": [
      "(35/27, 22, 23)\n",
      "(1, 22, 24)\n"
     ]
    },
    {
     "name": "stdout",
     "output_type": "stream",
     "text": [
      "(25/24, 23, 23)\n",
      "(3/4, 23, 24)\n",
      "(9/19, 24, 24)\n",
      "[(1, 1, 1), (6/5, 1, 2), (4/3, 1, 3), (1, 1, 4), (5/4, 1, 5), (5/4, 1, 6), (1, 1, 7), (4/3, 1, 8), (10/9, 1, 9), (6/5, 1, 10), (4/3, 1, 11), (5/4, 1, 12), (1, 1, 13), (6/5, 1, 14), (12/11, 1, 15), (14/11, 1, 16), (1, 1, 17), (6/5, 1, 18), (14/11, 1, 19), (6/5, 1, 20), (6/5, 1, 21), (7/5, 1, 22), (5/4, 1, 23), (1, 1, 24), (9/7, 2, 2), (3/2, 2, 3), (9/8, 2, 4), (15/11, 2, 5), (3/2, 2, 6), (1, 2, 7), (18/13, 2, 8), (15/13, 2, 9), (3/2, 2, 10), (3/2, 2, 11), (5/4, 2, 12), (1, 2, 13), (9/7, 2, 14), (6/5, 2, 15), (7/5, 2, 16), (15/14, 2, 17), (6/5, 2, 18), (3/2, 2, 19), (9/7, 2, 20), (6/5, 2, 21), (3/2, 2, 22), (5/4, 2, 23), (1, 2, 24), (4/3, 3, 3), (6/5, 3, 4), (20/13, 3, 5), (10/7, 3, 6), (1, 3, 7), (3/2, 3, 8), (5/4, 3, 9), (3/2, 3, 10), (24/17, 3, 11), (5/4, 3, 12), (1, 3, 13), (4/3, 3, 14), (4/3, 3, 15), (28/19, 3, 16), (10/9, 3, 17), (4/3, 3, 18), (28/19, 3, 19), (4/3, 3, 20), (4/3, 3, 21), (28/19, 3, 22), (5/4, 3, 23), (1, 3, 24), (9/10, 4, 4), (15/13, 4, 5), (5/4, 4, 6), (9/11, 4, 7), (9/8, 4, 8), (1, 4, 9), (9/7, 4, 10), (6/5, 4, 11), (15/14, 4, 12), (3/4, 4, 13), (1, 4, 14), (1, 4, 15), (7/6, 4, 16), (15/17, 4, 17), (1, 4, 18), (21/17, 4, 19), (9/8, 4, 20), (1, 4, 21), (21/17, 4, 22), (1, 4, 23), (3/4, 4, 24), (25/17, 5, 5), (25/16, 5, 6), (1, 5, 7), (3/2, 5, 8), (5/4, 5, 9), (3/2, 5, 10), (30/19, 5, 11), (25/19, 5, 12), (1, 5, 13), (15/11, 5, 14), (30/23, 5, 15), (35/23, 5, 16), (25/23, 5, 17), (30/23, 5, 18), (35/23, 5, 19), (15/11, 5, 20), (15/11, 5, 21), (35/22, 5, 22), (5/4, 5, 23), (1, 5, 24), (25/17, 6, 6), (15/14, 6, 7), (3/2, 6, 8), (25/19, 6, 9), (3/2, 6, 10), (3/2, 6, 11), (25/19, 6, 12), (1, 6, 13), (30/23, 6, 14), (15/11, 6, 15), (35/23, 6, 16), (25/21, 6, 17), (15/11, 6, 18), (35/23, 6, 19), (15/11, 6, 20), (15/11, 6, 21), (35/23, 6, 22), (5/4, 6, 23), (1, 6, 24), (9/13, 7, 7), (1, 7, 8), (15/17, 7, 9), (9/8, 7, 10), (18/17, 7, 11), (15/16, 7, 12), (9/14, 7, 13), (6/7, 7, 14), (9/10, 7, 15), (21/20, 7, 16), (15/19, 7, 17), (9/10, 7, 18), (21/19, 7, 19), (1, 7, 20), (9/10, 7, 21), (21/19, 7, 22), (15/17, 7, 23), (3/5, 7, 24), (3/2, 8, 8), (5/4, 8, 9), (3/2, 8, 10), (3/2, 8, 11), (30/23, 8, 12), (1, 8, 13), (9/7, 8, 14), (9/7, 8, 15), (3/2, 8, 16), (10/9, 8, 17), (9/7, 8, 18), (3/2, 8, 19), (4/3, 8, 20), (4/3, 8, 21), (14/9, 8, 22), (5/4, 8, 23), (1, 8, 24), (25/23, 9, 9), (30/23, 9, 10), (30/23, 9, 11), (25/22, 9, 12), (5/6, 9, 13), (10/9, 9, 14), (10/9, 9, 15), (35/27, 9, 16), (25/26, 9, 17), (10/9, 9, 18), (35/27, 9, 19), (15/13, 9, 20), (10/9, 9, 21), (35/26, 9, 22), (25/23, 9, 23), (5/6, 9, 24), (3/2, 10, 10), (3/2, 10, 11), (15/11, 10, 12), (1, 10, 13), (4/3, 10, 14), (18/13, 10, 15), (3/2, 10, 16), (6/5, 10, 17), (18/13, 10, 18), (3/2, 10, 19), (18/13, 10, 20), (9/7, 10, 21), (14/9, 10, 22), (5/4, 10, 23), (1, 10, 24), (3/2, 11, 11), (30/23, 11, 12), (1, 11, 13), (4/3, 11, 14), (4/3, 11, 15), (3/2, 11, 16), (15/13, 11, 17), (4/3, 11, 18), (3/2, 11, 19), (4/3, 11, 20), (18/13, 11, 21), (3/2, 11, 22), (5/4, 11, 23), (1, 11, 24), (25/21, 12, 12), (15/17, 12, 13), (10/9, 12, 14), (15/13, 12, 15), (35/26, 12, 16), (25/24, 12, 17), (6/5, 12, 18), (35/26, 12, 19), (5/4, 12, 20), (15/13, 12, 21), (7/5, 12, 22), (25/22, 12, 23), (5/6, 12, 24), (9/16, 13, 13), (6/7, 13, 14), (6/7, 13, 15), (1, 13, 16), (3/4, 13, 17), (6/7, 13, 18), (1, 13, 19), (9/10, 13, 20), (6/7, 13, 21), (21/20, 13, 22), (15/19, 13, 23), (9/17, 13, 24), (36/31, 14, 14), (9/8, 14, 15), (21/16, 14, 16), (30/31, 14, 17), (9/8, 14, 18), (21/16, 14, 19), (36/31, 14, 20), (6/5, 14, 21), (21/16, 14, 22), (10/9, 14, 23), (6/7, 14, 24), (9/8, 15, 15), (42/31, 15, 16), (1, 15, 17), (36/31, 15, 18), (42/31, 15, 19), (6/5, 15, 20), (36/31, 15, 21), (42/31, 15, 22), (10/9, 15, 23), (6/7, 15, 24), (49/32, 16, 16), (7/6, 16, 17), (42/31, 16, 18), (49/32, 16, 19), (42/31, 16, 20), (42/31, 16, 21), (49/31, 16, 22), (5/4, 16, 23), (1, 16, 24), (25/29, 17, 17), (1, 17, 18), (35/29, 17, 19), (15/14, 17, 20), (1, 17, 21), (35/29, 17, 22), (1, 17, 23), (5/7, 17, 24), (6/5, 18, 18), (42/31, 18, 19), (6/5, 18, 20), (36/31, 18, 21), (7/5, 18, 22), (10/9, 18, 23), (6/7, 18, 24), (49/33, 19, 19), (42/31, 19, 20), (21/16, 19, 21), (49/32, 19, 22), (5/4, 19, 23), (1, 19, 24), (36/29, 20, 20), (9/8, 20, 21), (7/5, 20, 22), (15/13, 20, 23), (6/7, 20, 24), (36/31, 21, 21), (7/5, 21, 22), (10/9, 21, 23), (6/7, 21, 24), (49/32, 22, 22), (35/27, 22, 23), (1, 22, 24), (25/24, 23, 23), (3/4, 23, 24), (9/19, 24, 24)]"
     ]
    },
    {
     "name": "stdout",
     "output_type": "stream",
     "text": [
      "\n"
     ]
    }
   ],
   "source": [
    "w = []\n",
    "for i in range(1, 25):\n",
    "    for j in range(i, 25):\n",
    "        w.append((graf(T[i], T[j], 3), i, j))\n",
    "        print(graf(T[i], T[j], 3), i, j)\n",
    "print(w)"
   ]
  },
  {
   "cell_type": "code",
   "execution_count": 8,
   "metadata": {
    "collapsed": false
   },
   "outputs": [
    {
     "name": "stdout",
     "output_type": "stream",
     "text": [
      "(35/22, 5, 22)\n"
     ]
    }
   ],
   "source": [
    "for i in range(len(w)):\n",
    "    if w[i][0] ==35/22:\n",
    "        print w[i]"
   ]
  },
  {
   "cell_type": "code",
   "execution_count": 5,
   "metadata": {
    "collapsed": false
   },
   "outputs": [
    {
     "name": "stdout",
     "output_type": "stream",
     "text": [
      "35/22\n"
     ]
    }
   ],
   "source": [
    "t = []\n",
    "for i in range(len(w)):\n",
    "    t.append(w[i][0])\n",
    "print max(t)"
   ]
  },
  {
   "cell_type": "code",
   "execution_count": 5,
   "metadata": {
    "collapsed": false
   },
   "outputs": [
    {
     "data": {
      "text/plain": [
       "32/29"
      ]
     },
     "execution_count": 5,
     "metadata": {
     },
     "output_type": "execute_result"
    }
   ],
   "source": [
    "graf(T[235], T[234], 2)"
   ]
  },
  {
   "cell_type": "code",
   "execution_count": 21,
   "metadata": {
    "collapsed": false,
    "scrolled": true
   },
   "outputs": [
    {
     "name": "stdout",
     "output_type": "stream",
     "text": [
      "(9/10, 48, 48)\n"
     ]
    },
    {
     "name": "stdout",
     "output_type": "stream",
     "text": [
      "(9/10, 48, 49)\n"
     ]
    },
    {
     "name": "stdout",
     "output_type": "stream",
     "text": [
      "(6/5, 48, 50)\n",
      "(9/10, 48, 51)\n",
      "(18/19, 48, 52)\n"
     ]
    },
    {
     "name": "stdout",
     "output_type": "stream",
     "text": [
      "(9/10, 48, 53)\n"
     ]
    },
    {
     "name": "stdout",
     "output_type": "stream",
     "text": [
      "(9/10, 48, 54)\n",
      "(9/10, 48, 55)\n"
     ]
    },
    {
     "name": "stdout",
     "output_type": "stream",
     "text": [
      "(9/10, 48, 56)\n",
      "(2/3, 48, 57)\n"
     ]
    },
    {
     "name": "stdout",
     "output_type": "stream",
     "text": [
      "(9/10, 48, 58)\n",
      "(9/10, 48, 59)\n"
     ]
    },
    {
     "name": "stdout",
     "output_type": "stream",
     "text": [
      "(18/19, 48, 60)\n"
     ]
    },
    {
     "name": "stdout",
     "output_type": "stream",
     "text": [
      "(6/5, 48, 61)\n",
      "(18/19, 48, 62)\n"
     ]
    },
    {
     "name": "stdout",
     "output_type": "stream",
     "text": [
      "(6/5, 48, 63)\n",
      "(8/7, 48, 64)\n"
     ]
    },
    {
     "name": "stdout",
     "output_type": "stream",
     "text": [
      "(18/19, 48, 65)\n",
      "(8/7, 48, 66)\n"
     ]
    },
    {
     "name": "stdout",
     "output_type": "stream",
     "text": [
      "(6/5, 48, 67)\n",
      "(6/5, 48, 68)\n"
     ]
    },
    {
     "name": "stdout",
     "output_type": "stream",
     "text": [
      "(9/10, 48, 69)\n"
     ]
    },
    {
     "name": "stdout",
     "output_type": "stream",
     "text": [
      "(18/19, 48, 70)\n"
     ]
    },
    {
     "name": "stdout",
     "output_type": "stream",
     "text": [
      "(3/4, 48, 71)\n",
      "(18/19, 48, 72)\n",
      "(6/7, 48, 73)\n"
     ]
    },
    {
     "name": "stdout",
     "output_type": "stream",
     "text": [
      "(9/10, 48, 74)\n",
      "(6/5, 48, 75)\n"
     ]
    },
    {
     "name": "stdout",
     "output_type": "stream",
     "text": [
      "(18/17, 48, 76)\n",
      "(6/7, 48, 77)\n"
     ]
    },
    {
     "name": "stdout",
     "output_type": "stream",
     "text": [
      "(3/4, 48, 78)\n",
      "(18/17, 48, 79)\n",
      "(2/3, 48, 80)\n"
     ]
    },
    {
     "name": "stdout",
     "output_type": "stream",
     "text": [
      "(18/19, 48, 81)\n",
      "(18/19, 48, 82)\n"
     ]
    },
    {
     "name": "stdout",
     "output_type": "stream",
     "text": [
      "(9/10, 48, 83)\n",
      "(2/3, 48, 84)\n"
     ]
    },
    {
     "name": "stdout",
     "output_type": "stream",
     "text": [
      "(6/7, 48, 85)\n"
     ]
    },
    {
     "name": "stdout",
     "output_type": "stream",
     "text": [
      "(6/7, 48, 86)\n"
     ]
    },
    {
     "name": "stdout",
     "output_type": "stream",
     "text": [
      "(8/7, 48, 87)\n",
      "(1, 48, 88)\n",
      "(4/5, 48, 89)\n"
     ]
    },
    {
     "name": "stdout",
     "output_type": "stream",
     "text": [
      "(4/3, 48, 90)\n",
      "(4/3, 48, 91)\n",
      "(6/5, 48, 92)\n",
      "(1, 48, 93)\n"
     ]
    },
    {
     "name": "stdout",
     "output_type": "stream",
     "text": [
      "(2/3, 48, 94)\n"
     ]
    },
    {
     "name": "stdout",
     "output_type": "stream",
     "text": [
      "(12/11, 48, 95)\n",
      "(9/11, 48, 96)"
     ]
    },
    {
     "name": "stdout",
     "output_type": "stream",
     "text": [
      "\n"
     ]
    },
    {
     "name": "stdout",
     "output_type": "stream",
     "text": [
      "(9/11, 48, 97)\n"
     ]
    },
    {
     "name": "stdout",
     "output_type": "stream",
     "text": [
      "(12/11, 48, 98)\n",
      "(12/11, 48, 99)\n"
     ]
    },
    {
     "name": "stdout",
     "output_type": "stream",
     "text": [
      "(24/23, 48, 100)\n",
      "(12/11, 48, 101)\n"
     ]
    },
    {
     "name": "stdout",
     "output_type": "stream",
     "text": [
      "(9/11, 48, 102)\n"
     ]
    },
    {
     "name": "stdout",
     "output_type": "stream",
     "text": [
      "(12/11, 48, 103)\n"
     ]
    },
    {
     "name": "stdout",
     "output_type": "stream",
     "text": [
      "(24/23, 48, 104)\n"
     ]
    },
    {
     "name": "stdout",
     "output_type": "stream",
     "text": [
      "(9/11, 48, 105)\n"
     ]
    },
    {
     "name": "stdout",
     "output_type": "stream",
     "text": [
      "(6/7, 48, 106)\n"
     ]
    },
    {
     "name": "stdout",
     "output_type": "stream",
     "text": [
      "(24/23, 48, 107)\n"
     ]
    },
    {
     "name": "stdout",
     "output_type": "stream",
     "text": [
      "(9/11, 48, 108)\n",
      "(12/11, 48, 109)\n"
     ]
    },
    {
     "name": "stdout",
     "output_type": "stream",
     "text": [
      "(12/11, 48, 110)\n"
     ]
    },
    {
     "name": "stdout",
     "output_type": "stream",
     "text": [
      "(24/23, 48, 111)\n"
     ]
    },
    {
     "name": "stdout",
     "output_type": "stream",
     "text": [
      "(12/11, 48, 112)\n"
     ]
    },
    {
     "name": "stdout",
     "output_type": "stream",
     "text": [
      "(6/7, 48, 113)\n"
     ]
    },
    {
     "name": "stdout",
     "output_type": "stream",
     "text": [
      "(18/19, 48, 114)\n"
     ]
    },
    {
     "name": "stdout",
     "output_type": "stream",
     "text": [
      "(9/11, 48, 115)\n"
     ]
    },
    {
     "name": "stdout",
     "output_type": "stream",
     "text": [
      "(6/7, 48, 116)\n"
     ]
    },
    {
     "name": "stdout",
     "output_type": "stream",
     "text": [
      "(6/7, 48, 117)\n",
      "(6/7, 48, 118)\n",
      "(2/3, 48, 119)\n",
      "(12/11, 48, 120)\n",
      "(9/11, 48, 121)\n"
     ]
    },
    {
     "name": "stdout",
     "output_type": "stream",
     "text": [
      "(9/11, 48, 122)\n"
     ]
    },
    {
     "name": "stdout",
     "output_type": "stream",
     "text": [
      "(24/23, 48, 123)\n"
     ]
    },
    {
     "name": "stdout",
     "output_type": "stream",
     "text": [
      "(24/23, 48, 124)\n"
     ]
    },
    {
     "name": "stdout",
     "output_type": "stream",
     "text": [
      "(6/7, 48, 125)\n",
      "(24/23, 48, 126)\n"
     ]
    },
    {
     "name": "stdout",
     "output_type": "stream",
     "text": [
      "(9/11, 48, 127)\n"
     ]
    },
    {
     "name": "stdout",
     "output_type": "stream",
     "text": [
      "(12/11, 48, 128)\n"
     ]
    },
    {
     "name": "stdout",
     "output_type": "stream",
     "text": [
      "(6/7, 48, 129)\n"
     ]
    },
    {
     "name": "stdout",
     "output_type": "stream",
     "text": [
      "(24/23, 48, 130)\n"
     ]
    },
    {
     "name": "stdout",
     "output_type": "stream",
     "text": [
      "(9/11, 48, 131)\n"
     ]
    },
    {
     "name": "stdout",
     "output_type": "stream",
     "text": [
      "(6/7, 48, 132)\n",
      "(2/3, 48, 133)\n"
     ]
    },
    {
     "name": "stdout",
     "output_type": "stream",
     "text": [
      "(6/7, 48, 134)\n"
     ]
    },
    {
     "name": "stdout",
     "output_type": "stream",
     "text": [
      "(18/23, 48, 135)\n",
      "(9/11, 48, 136)"
     ]
    },
    {
     "name": "stdout",
     "output_type": "stream",
     "text": [
      "\n",
      "(12/11, 48, 137)"
     ]
    },
    {
     "name": "stdout",
     "output_type": "stream",
     "text": [
      "\n"
     ]
    },
    {
     "name": "stdout",
     "output_type": "stream",
     "text": [
      "(18/19, 48, 138)\n"
     ]
    },
    {
     "name": "stdout",
     "output_type": "stream",
     "text": [
      "(12/11, 48, 139)\n"
     ]
    },
    {
     "name": "stdout",
     "output_type": "stream",
     "text": [
      "(12/11, 48, 140)\n"
     ]
    },
    {
     "name": "stdout",
     "output_type": "stream",
     "text": [
      "(12/11, 48, 141)\n"
     ]
    },
    {
     "name": "stdout",
     "output_type": "stream",
     "text": [
      "(6/7, 48, 142)\n"
     ]
    },
    {
     "name": "stdout",
     "output_type": "stream",
     "text": [
      "(12/11, 48, 143)\n"
     ]
    },
    {
     "name": "stdout",
     "output_type": "stream",
     "text": [
      "(24/23, 48, 144)\n"
     ]
    },
    {
     "name": "stdout",
     "output_type": "stream",
     "text": [
      "(18/19, 48, 145)\n"
     ]
    },
    {
     "name": "stdout",
     "output_type": "stream",
     "text": [
      "(12/11, 48, 146)\n"
     ]
    },
    {
     "name": "stdout",
     "output_type": "stream",
     "text": [
      "(12/11, 48, 147)\n"
     ]
    },
    {
     "name": "stdout",
     "output_type": "stream",
     "text": [
      "(6/7, 48, 148)\n"
     ]
    },
    {
     "name": "stdout",
     "output_type": "stream",
     "text": [
      "(12/11, 48, 149)\n",
      "(12/11, 48, 150)\n",
      "(24/23, 48, 151)\n",
      "(30/23, 48, 152)\n"
     ]
    },
    {
     "name": "stdout",
     "output_type": "stream",
     "text": [
      "(24/23, 48, 153)\n"
     ]
    },
    {
     "name": "stdout",
     "output_type": "stream",
     "text": [
      "(12/11, 48, 154)\n"
     ]
    },
    {
     "name": "stdout",
     "output_type": "stream",
     "text": [
      "(18/19, 48, 155)\n"
     ]
    },
    {
     "name": "stdout",
     "output_type": "stream",
     "text": [
      "(12/11, 48, 156)\n"
     ]
    },
    {
     "name": "stdout",
     "output_type": "stream",
     "text": [
      "(24/23, 48, 157)\n"
     ]
    },
    {
     "name": "stdout",
     "output_type": "stream",
     "text": [
      "(24/23, 48, 158)\n"
     ]
    },
    {
     "name": "stdout",
     "output_type": "stream",
     "text": [
      "(30/23, 48, 159)\n",
      "(6/5, 48, 160)\n"
     ]
    },
    {
     "name": "stdout",
     "output_type": "stream",
     "text": [
      "(8/7, 48, 161)\n"
     ]
    },
    {
     "name": "stdout",
     "output_type": "stream",
     "text": [
      "(18/23, 48, 162)\n"
     ]
    },
    {
     "name": "stdout",
     "output_type": "stream",
     "text": [
      "(12/11, 48, 163)\n"
     ]
    },
    {
     "name": "stdout",
     "output_type": "stream",
     "text": [
      "(18/19, 48, 164)\n"
     ]
    },
    {
     "name": "stdout",
     "output_type": "stream",
     "text": [
      "(3/4, 48, 165)\n"
     ]
    },
    {
     "name": "stdout",
     "output_type": "stream",
     "text": [
      "(18/19, 48, 166)\n"
     ]
    },
    {
     "name": "stdout",
     "output_type": "stream",
     "text": [
      "(6/7, 48, 167)\n"
     ]
    },
    {
     "name": "stdout",
     "output_type": "stream",
     "text": [
      "(9/11, 48, 168)\n"
     ]
    },
    {
     "name": "stdout",
     "output_type": "stream",
     "text": [
      "(18/23, 48, 169)\n"
     ]
    },
    {
     "name": "stdout",
     "output_type": "stream",
     "text": [
      "(24/23, 48, 170)\n",
      "(9/10, 48, 171)\n"
     ]
    },
    {
     "name": "stdout",
     "output_type": "stream",
     "text": [
      "(8/7, 48, 172)\n"
     ]
    },
    {
     "name": "stdout",
     "output_type": "stream",
     "text": [
      "(6/5, 48, 173)\n",
      "(18/17, 48, 174)\n"
     ]
    },
    {
     "name": "stdout",
     "output_type": "stream",
     "text": [
      "(6/7, 48, 175)\n",
      "(3/4, 48, 176)\n",
      "(18/17, 48, 177)"
     ]
    },
    {
     "name": "stdout",
     "output_type": "stream",
     "text": [
      "\n",
      "(2/3, 48, 178)\n"
     ]
    },
    {
     "name": "stdout",
     "output_type": "stream",
     "text": [
      "(18/19, 48, 179)\n"
     ]
    },
    {
     "name": "stdout",
     "output_type": "stream",
     "text": [
      "(18/19, 48, 180)\n",
      "(9/10, 48, 181)\n",
      "(2/3, 48, 182)\n"
     ]
    },
    {
     "name": "stdout",
     "output_type": "stream",
     "text": [
      "(6/7, 48, 183)\n"
     ]
    },
    {
     "name": "stdout",
     "output_type": "stream",
     "text": [
      "(6/7, 48, 184)\n",
      "(9/11, 48, 185)\n"
     ]
    },
    {
     "name": "stdout",
     "output_type": "stream",
     "text": [
      "(12/11, 48, 186)\n",
      "(6/7, 48, 187)\n",
      "(2/3, 48, 188)\n"
     ]
    },
    {
     "name": "stdout",
     "output_type": "stream",
     "text": [
      "(18/23, 48, 189)\n",
      "(24/23, 48, 190)\n",
      "(6/7, 48, 191)\n",
      "(8/7, 48, 192)\n"
     ]
    },
    {
     "name": "stdout",
     "output_type": "stream",
     "text": [
      "(8/7, 48, 193)\n",
      "(1, 48, 194)\n",
      "(4/5, 48, 195)\n"
     ]
    },
    {
     "name": "stdout",
     "output_type": "stream",
     "text": [
      "(10/7, 48, 196)\n",
      "(4/3, 48, 197)\n",
      "(6/5, 48, 198)\n",
      "(1, 48, 199)\n"
     ]
    },
    {
     "name": "stdout",
     "output_type": "stream",
     "text": [
      "(2/3, 48, 200)\n"
     ]
    },
    {
     "name": "stdout",
     "output_type": "stream",
     "text": [
      "(1, 48, 201)\n"
     ]
    }
   ],
   "source": [
    "#do 11 vozlišč, k=2\n",
    "w = []\n",
    "for i in range(48, 236):\n",
    "    for j in range(i, 236):\n",
    "        w.append((graf(T[i], T[j], 2), i, j))\n",
    "        print(graf(T[i], T[j], 2), i, j)\n",
    "print(w)"
   ]
  },
  {
   "cell_type": "code",
   "execution_count": 0,
   "metadata": {
    "collapsed": false
   },
   "outputs": [
   ],
   "source": [
    "for i in range(len(w)):\n",
    "    if w[i][0] == 2:\n",
    "        print w[i]"
   ]
  },
  {
   "cell_type": "code",
   "execution_count": 5,
   "metadata": {
    "collapsed": false,
    "scrolled": true
   },
   "outputs": [
    {
     "name": "stdout",
     "output_type": "stream",
     "text": [
      "(1, 1, 1)\n",
      "(1, 1, 2)\n",
      "(1, 1, 3)\n"
     ]
    },
    {
     "name": "stdout",
     "output_type": "stream",
     "text": [
      "(8/7, 1, 4)\n",
      "(10/9, 1, 5)\n",
      "(10/9, 1, 6)\n",
      "(1, 1, 7)\n",
      "(9/8, 2, 2)\n"
     ]
    },
    {
     "name": "stdout",
     "output_type": "stream",
     "text": [
      "(6/5, 2, 3)\n"
     ]
    },
    {
     "name": "stdout",
     "output_type": "stream",
     "text": [
      "(6/5, 2, 4)\n",
      "(5/4, 2, 5)"
     ]
    },
    {
     "name": "stdout",
     "output_type": "stream",
     "text": [
      "\n",
      "(5/4, 2, 6)\n",
      "(12/11, 2, 7)\n"
     ]
    },
    {
     "name": "stdout",
     "output_type": "stream",
     "text": [
      "(8/7, 3, 3)\n",
      "(4/3, 3, 4)\n"
     ]
    },
    {
     "name": "stdout",
     "output_type": "stream",
     "text": [
      "(5/4, 3, 5)\n"
     ]
    },
    {
     "name": "stdout",
     "output_type": "stream",
     "text": [
      "(5/4, 3, 6)\n",
      "(8/7, 3, 7)\n",
      "(4/3, 4, 4)\n"
     ]
    },
    {
     "name": "stdout",
     "output_type": "stream",
     "text": [
      "(5/4, 4, 5)\n",
      "(4/3, 4, 6)\n",
      "(8/7, 4, 7)\n",
      "(5/4, 5, 5)\n"
     ]
    },
    {
     "name": "stdout",
     "output_type": "stream",
     "text": [
      "(25/19, 5, 6)\n",
      "(10/9, 5, 7)\n",
      "(5/4, 6, 6)\n"
     ]
    },
    {
     "name": "stdout",
     "output_type": "stream",
     "text": [
      "(20/17, 6, 7)\n",
      "(1, 7, 7)\n",
      "[(1, 1, 1), (1, 1, 2), (1, 1, 3), (8/7, 1, 4), (10/9, 1, 5), (10/9, 1, 6), (1, 1, 7), (9/8, 2, 2), (6/5, 2, 3), (6/5, 2, 4), (5/4, 2, 5), (5/4, 2, 6), (12/11, 2, 7), (8/7, 3, 3), (4/3, 3, 4), (5/4, 3, 5), (5/4, 3, 6), (8/7, 3, 7), (4/3, 4, 4), (5/4, 4, 5), (4/3, 4, 6), (8/7, 4, 7), (5/4, 5, 5), (25/19, 5, 6), (10/9, 5, 7), (5/4, 6, 6), (20/17, 6, 7), (1, 7, 7)]\n"
     ]
    }
   ],
   "source": [
    "#do 5 vozlišč, k=4\n",
    "w = []\n",
    "for i in range(1, 8):\n",
    "    for j in range(i, 8):\n",
    "        w.append((graf(T[i], T[j], 4), i, j))\n",
    "        print(graf(T[i], T[j], 4), i, j)\n",
    "print(w)"
   ]
  },
  {
   "cell_type": "code",
   "execution_count": 15,
   "metadata": {
    "collapsed": false,
    "scrolled": true
   },
   "outputs": [
    {
     "name": "stdout",
     "output_type": "stream",
     "text": [
      "(1, 1, 1)\n"
     ]
    },
    {
     "name": "stdout",
     "output_type": "stream",
     "text": [
      "(1, 1, 2)\n"
     ]
    },
    {
     "name": "stdout",
     "output_type": "stream",
     "text": [
      "(1, 1, 3)\n",
      "(1, 1, 4)\n",
      "(1, 1, 5)\n"
     ]
    },
    {
     "name": "stdout",
     "output_type": "stream",
     "text": [
      "(1, 1, 6)\n",
      "(10/9, 1, 7)\n",
      "(1, 2, 2)\n"
     ]
    },
    {
     "name": "stdout",
     "output_type": "stream",
     "text": [
      "(1, 2, 3)\n"
     ]
    },
    {
     "name": "stdout",
     "output_type": "stream",
     "text": [
      "(12/11, 2, 4)\n"
     ]
    },
    {
     "name": "stdout",
     "output_type": "stream",
     "text": [
      "(15/13, 2, 5)\n"
     ]
    },
    {
     "name": "stdout",
     "output_type": "stream",
     "text": [
      "(15/14, 2, 6)\n"
     ]
    },
    {
     "name": "stdout",
     "output_type": "stream",
     "text": [
      "(15/13, 2, 7)\n",
      "(8/7, 3, 3)\n"
     ]
    },
    {
     "name": "stdout",
     "output_type": "stream",
     "text": [
      "(8/7, 3, 4)\n",
      "(10/9, 3, 5)\n"
     ]
    },
    {
     "name": "stdout",
     "output_type": "stream",
     "text": [
      "(10/9, 3, 6)\n"
     ]
    },
    {
     "name": "stdout",
     "output_type": "stream",
     "text": [
      "(5/4, 3, 7)\n"
     ]
    },
    {
     "name": "stdout",
     "output_type": "stream",
     "text": [
      "(8/7, 4, 4)\n"
     ]
    },
    {
     "name": "stdout",
     "output_type": "stream",
     "text": [
      "(20/17, 4, 5)\n"
     ]
    },
    {
     "name": "stdout",
     "output_type": "stream",
     "text": [
      "(10/9, 4, 6)\n"
     ]
    },
    {
     "name": "stdout",
     "output_type": "stream",
     "text": [
      "(20/17, 4, 7)\n"
     ]
    },
    {
     "name": "stdout",
     "output_type": "stream",
     "text": [
      "(25/22, 5, 5)\n",
      "(25/22, 5, 6)\n"
     ]
    },
    {
     "name": "stdout",
     "output_type": "stream",
     "text": [
      "(25/21, 5, 7)\n"
     ]
    },
    {
     "name": "stdout",
     "output_type": "stream",
     "text": [
      "(25/22, 6, 6)\n"
     ]
    },
    {
     "name": "stdout",
     "output_type": "stream",
     "text": [
      "(5/4, 6, 7)\n",
      "(5/4, 7, 7)\n",
      "[(1, 1, 1), (1, 1, 2), (1, 1, 3), (1, 1, 4), (1, 1, 5), (1, 1, 6), (10/9, 1, 7), (1, 2, 2), (1, 2, 3), (12/11, 2, 4), (15/13, 2, 5), (15/14, 2, 6), (15/13, 2, 7), (8/7, 3, 3), (8/7, 3, 4), (10/9, 3, 5), (10/9, 3, 6), (5/4, 3, 7), (8/7, 4, 4), (20/17, 4, 5), (10/9, 4, 6), (20/17, 4, 7), (25/22, 5, 5), (25/22, 5, 6), (25/21, 5, 7), (25/22, 6, 6), (5/4, 6, 7), (5/4, 7, 7)]\n"
     ]
    }
   ],
   "source": [
    "#do 5 vozlišč, k=5\n",
    "w = []\n",
    "for i in range(1, 8):\n",
    "    for j in range(i, 8):\n",
    "        w.append((graf(T[i], T[j], 5), i, j))\n",
    "        print(graf(T[i], T[j], 5), i, j)\n",
    "print(w)"
   ]
  },
  {
   "cell_type": "code",
   "execution_count": 15,
   "metadata": {
    "collapsed": false
   },
   "outputs": [
    {
     "name": "stdout",
     "output_type": "stream",
     "text": [
      "(1, 1, 1)\n"
     ]
    },
    {
     "name": "stdout",
     "output_type": "stream",
     "text": [
      "(1, 1, 2)\n",
      "(1, 1, 3)\n",
      "(1, 1, 4)\n"
     ]
    },
    {
     "name": "stdout",
     "output_type": "stream",
     "text": [
      "(1, 1, 5)\n"
     ]
    },
    {
     "name": "stdout",
     "output_type": "stream",
     "text": [
      "(1, 1, 6)\n"
     ]
    },
    {
     "name": "stdout",
     "output_type": "stream",
     "text": [
      "(1, 1, 7)\n"
     ]
    },
    {
     "name": "stdout",
     "output_type": "stream",
     "text": [
      "(1, 2, 2)\n"
     ]
    },
    {
     "name": "stdout",
     "output_type": "stream",
     "text": [
      "(1, 2, 3)\n"
     ]
    },
    {
     "name": "stdout",
     "output_type": "stream",
     "text": [
      "(1, 2, 4)\n"
     ]
    },
    {
     "name": "stdout",
     "output_type": "stream",
     "text": [
      "(15/14, 2, 5)\n"
     ]
    },
    {
     "name": "stdout",
     "output_type": "stream",
     "text": [
      "(1, 2, 6)\n"
     ]
    },
    {
     "name": "stdout",
     "output_type": "stream",
     "text": [
      "(15/14, 2, 7)\n"
     ]
    },
    {
     "name": "stdout",
     "output_type": "stream",
     "text": [
      "(1, 3, 3)\n"
     ]
    }
   ],
   "source": [
    "#do 5 vozlišč, k=6\n",
    "w = []\n",
    "for i in range(1, 8):\n",
    "    for j in range(i, 8):\n",
    "        w.append((graf(T[i], T[j], 6), i, j))\n",
    "        print(graf(T[i], T[j], 6), i, j)\n",
    "print(w)"
   ]
  },
  {
   "cell_type": "code",
   "execution_count": 14,
   "metadata": {
    "collapsed": false
   },
   "outputs": [
    {
     "data": {
      "text/plain": [
       "(5/4, 7, 7)"
      ]
     },
     "execution_count": 14,
     "metadata": {
     },
     "output_type": "execute_result"
    }
   ],
   "source": [
    "max(w)"
   ]
  }
 ],
 "metadata": {
  "kernelspec": {
   "display_name": "SageMath (stable)",
   "language": "sagemath",
   "metadata": {
    "cocalc": {
     "description": "Open-source mathematical software system",
     "priority": 10,
     "url": "https://www.sagemath.org/"
    }
   },
   "name": "sagemath"
  },
  "language_info": {
   "codemirror_mode": {
    "name": "ipython",
    "version": 2
   },
   "file_extension": ".py",
   "mimetype": "text/x-python",
   "name": "python",
   "nbconvert_exporter": "python",
   "pygments_lexer": "ipython2",
   "version": "2.7.15"
  }
 },
 "nbformat": 4,
 "nbformat_minor": 0
}