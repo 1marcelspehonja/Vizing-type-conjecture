{
 "cells": [
  {
   "cell_type": "code",
   "execution_count": 1,
   "metadata": {
    "collapsed": false
   },
   "outputs": [
   ],
   "source": [
    "def konstanta(prvi, drugi, k):\n",
    "\n",
    "    poln_graf = graphs.CompleteGraph(k)\n",
    "\n",
    "    kartezijski_prvega_in_polnega = prvi.cartesian_product(poln_graf)\n",
    "    kartezijski_drugega_in_polnega = drugi.cartesian_product(poln_graf)\n",
    "\n",
    "    kartezijski_prvega_in_drugega = drugi.cartesian_product(prvi)\n",
    "    kartezijski_kartezijskega = kartezijski_prvega_in_drugega.cartesian_product(poln_graf)\n",
    "\n",
    "    krt_prvega = kartezijski_prvega_in_polnega.dominating_set(value_only=True, total=True)\n",
    "    krt_drugega = kartezijski_drugega_in_polnega.dominating_set(value_only=True, total=True)\n",
    "    krt_obeh = kartezijski_kartezijskega.dominating_set(value_only=True, total=True)\n",
    "\n",
    "    return (krt_prvega * krt_drugega) / krt_obeh"
   ]
  },
  {
   "cell_type": "code",
   "execution_count": 2,
   "metadata": {
    "collapsed": false
   },
   "outputs": [
   ],
   "source": [
    "from sage.graphs.connectivity import is_connected\n",
    "def spremeni_povezave(G):\n",
    "    H = Graph(G)\n",
    "    if random() < 0.5:\n",
    "        p=0\n",
    "        while True:\n",
    "            H.delete_edge(H.random_edge())\n",
    "            if is_connected(H):\n",
    "                H\n",
    "                break\n",
    "            else:\n",
    "                H = Graph(G)\n",
    "                p += 1\n",
    "                True\n",
    "            if p > 20:         #če ne more odstraniti povezave mu jo doda\n",
    "                H.add_edge(H.complement().random_edge())\n",
    "                break\n",
    "    else:\n",
    "        if H.complement().size() == 0:\n",
    "            H.delete_edge(H.random_edge())\n",
    "        else:\n",
    "            H.add_edge(H.complement().random_edge())\n",
    "    return H"
   ]
  },
  {
   "cell_type": "code",
   "execution_count": 4,
   "metadata": {
    "collapsed": false,
    "scrolled": true
   },
   "outputs": [
   ],
   "source": [
    "k = 3\n",
    "while True:\n",
    "    prvi_graf_a = graphs.RandomGNP(9, 0.5)\n",
    "    if prvi_graf_a.is_connected():\n",
    "        prvi_graf = prvi_graf_a\n",
    "        break\n",
    "    else:\n",
    "        True\n",
    "prvi_graf.show();\n",
    "while True:\n",
    "    drugi_graf_a = graphs.RandomGNP(6, 0.6)\n",
    "    if drugi_graf_a.is_connected():\n",
    "        drugi_graf = drugi_graf_a\n",
    "        break\n",
    "    else:\n",
    "        True\n",
    "drugi_graf.show();\n",
    "\n",
    "p = 0\n",
    "stevilo_korakov = 200\n",
    "cost_grafa = konstanta(prvi_graf, drugi_graf, k)\n",
    "for p in range(0, stevilo_korakov):\n",
    "    Temp = stevilo_korakov / (p+1)\n",
    "    a = random()\n",
    "    if a < (1/3):\n",
    "        novi_prvi_graf = spremeni_povezave(prvi_graf)\n",
    "        novi_drugi_graf = spremeni_povezave(drugi_graf)\n",
    "    elif (1/3)<a and a<(2/3):\n",
    "        novi_prvi_graf = spremeni_povezave(prvi_graf)\n",
    "        novi_drugi_graf = drugi_graf\n",
    "    else:\n",
    "        novi_prvi_graf = prvi_graf\n",
    "        novi_drugi_graf = spremeni_povezave(drugi_graf)\n",
    "\n",
    "    cost_nova_grafa = konstanta(novi_prvi_graf, novi_drugi_graf, k)\n",
    "    razlika = cost_nova_grafa - cost_grafa     #če razlika pozitivna zamenjamo prvotna grafa z novimi\n",
    "    if razlika > 0:\n",
    "        prvi_graf = novi_prvi_graf\n",
    "        drugi_graf = novi_drugi_graf\n",
    "        cost_grafa = cost_nova_grafa\n",
    "    elif  exp((razlika * 200) / Temp) > random():\n",
    "        prvi_graf = novi_prvi_graf\n",
    "        drugi_graf = novi_drugi_graf\n",
    "        cost_grafa = cost_nova_grafa\n",
    "    p += 1\n",
    "    print p\n",
    "print (prvi_graf.show(), drugi_graf.show(), konstanta(prvi_graf, drugi_graf, k))"
   ]
  },
  {
   "cell_type": "code",
   "execution_count": 0,
   "metadata": {
    "collapsed": false
   },
   "outputs": [
   ],
   "source": [
   ]
  },
  {
   "cell_type": "code",
   "execution_count": 0,
   "metadata": {
    "collapsed": false
   },
   "outputs": [
   ],
   "source": [
   ]
  },
  {
   "cell_type": "code",
   "execution_count": 0,
   "metadata": {
    "collapsed": false
   },
   "outputs": [
   ],
   "source": [
   ]
  },
  {
   "cell_type": "code",
   "execution_count": 0,
   "metadata": {
    "collapsed": false
   },
   "outputs": [
   ],
   "source": [
   ]
  },
  {
   "cell_type": "code",
   "execution_count": 0,
   "metadata": {
    "collapsed": false
   },
   "outputs": [
   ],
   "source": [
   ]
  },
  {
   "cell_type": "code",
   "execution_count": 0,
   "metadata": {
    "collapsed": false
   },
   "outputs": [
   ],
   "source": [
   ]
  }
 ],
 "metadata": {
  "kernelspec": {
   "display_name": "SageMath (stable)",
   "language": "sagemath",
   "metadata": {
    "cocalc": {
     "description": "Open-source mathematical software system",
     "priority": 10,
     "url": "https://www.sagemath.org/"
    }
   },
   "name": "sagemath"
  },
  "language_info": {
   "codemirror_mode": {
    "name": "ipython",
    "version": 2
   },
   "file_extension": ".py",
   "mimetype": "text/x-python",
   "name": "python",
   "nbconvert_exporter": "python",
   "pygments_lexer": "ipython2",
   "version": "2.7.15"
  }
 },
 "nbformat": 4,
 "nbformat_minor": 0
}