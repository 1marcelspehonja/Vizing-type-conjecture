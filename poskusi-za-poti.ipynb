{
 "cells": [
  {
   "cell_type": "code",
   "execution_count": 7,
   "metadata": {
    "collapsed": false
   },
   "outputs": [
   ],
   "source": [
    "def graf(prvi, drugi, k):\n",
    "\n",
    "    poln_graf = graphs.CompleteGraph(k)\n",
    "\n",
    "    kartezijski_prvega_in_polnega = prvi.cartesian_product(poln_graf)\n",
    "    kartezijski_drugega_in_polnega = drugi.cartesian_product(poln_graf)\n",
    "\n",
    "    kartezijski_prvega_in_drugega = drugi.cartesian_product(prvi)\n",
    "    kartezijski_kartezijskega = kartezijski_prvega_in_drugega.cartesian_product(poln_graf)\n",
    "\n",
    "    krt_prvega = kartezijski_prvega_in_polnega.dominating_set(value_only=True, total=True)\n",
    "    krt_drugega = kartezijski_drugega_in_polnega.dominating_set(value_only=True, total=True)\n",
    "    krt_obeh = kartezijski_kartezijskega.dominating_set(value_only=True, total=True)\n",
    "    \n",
    "    return (krt_prvega * krt_drugega) / krt_obeh"
   ]
  },
  {
   "cell_type": "code",
   "execution_count": 8,
   "metadata": {
    "collapsed": false
   },
   "outputs": [
   ],
   "source": [
    "#zaloga grafov poti in k-polnih grafov\n",
    "#indeksi grejo od 0, ker bo potem G[5] imel res 5 vozlišč, sta pa G[0] in K[0] neuporabna\n",
    "#ravno tako bomo pozabili na grafe na 1 točki, saj so bo iskani koeficinet (najin \"graf\") vedno enak 2. To je zato, je gama_krt grafa na 1 vozlišču vedno = #2, gama_krt (P_i) pa je = gama_krt (P_1, P_i). Torej bo stalno 2. Zato bomo opazovali le od 2 vozlišč naprej.\n",
    "G = []\n",
    "K = []\n",
    "for i in range(101):\n",
    "    G.append(graphs.PathGraph(i))\n",
    "    K.append(graphs.CompleteGraph(i))\n",
    "    "
   ]
  },
  {
   "cell_type": "code",
   "execution_count": 18,
   "metadata": {
    "collapsed": false,
    "scrolled": true
   },
   "outputs": [
    {
     "name": "stdout",
     "output_type": "stream",
     "text": [
      "[(1, 2, 2)]\n"
     ]
    }
   ],
   "source": [
    "#k = 2\n",
    "#poti do 2\n",
    "q=[]\n",
    "for i in range(2, 3):\n",
    "    for j in range(i, 3):\n",
    "        q.append((graf(G[i], G[j], 2), i, j))\n",
    "print q"
   ]
  },
  {
   "cell_type": "code",
   "execution_count": 19,
   "metadata": {
    "collapsed": false
   },
   "outputs": [
    {
     "name": "stdout",
     "output_type": "stream",
     "text": [
      "[(1, 2, 3), (2/3, 3, 3)]\n"
     ]
    }
   ],
   "source": [
    "#k = 2\n",
    "#poti do 3\n",
    "#posebej gledamo zato, ker bo od nekod dalje zelo zahtevno.\n",
    "q=[]\n",
    "j = 3\n",
    "for i in range(2, 4):\n",
    "    q.append((graf(G[i], G[j], 2), i, j))\n",
    "print max(q)"
   ]
  },
  {
   "cell_type": "code",
   "execution_count": 20,
   "metadata": {
    "collapsed": false
   },
   "outputs": [
    {
     "name": "stdout",
     "output_type": "stream",
     "text": [
      "[(4/3, 2, 4), (1, 3, 4), (2, 4, 4)]\n"
     ]
    }
   ],
   "source": [
    "#k = 2\n",
    "#poti do 4\n",
    "q=[]\n",
    "j = 4\n",
    "for i in range(2, 5):\n",
    "    q.append((graf(G[i], G[j], 2), i, j))\n",
    "print max(q)"
   ]
  },
  {
   "cell_type": "code",
   "execution_count": 21,
   "metadata": {
    "collapsed": false
   },
   "outputs": [
    {
     "name": "stdout",
     "output_type": "stream",
     "text": [
      "[(4/3, 2, 5), (1, 3, 5), (4/3, 4, 5), (8/7, 5, 5)]\n"
     ]
    }
   ],
   "source": [
    "#k = 2\n",
    "#poti do 5\n",
    "q=[]\n",
    "j = 5\n",
    "for i in range(2, 6):\n",
    "    q.append((graf(G[i], G[j], 2), i, j))\n",
    "print max(q)"
   ]
  },
  {
   "cell_type": "code",
   "execution_count": 22,
   "metadata": {
    "collapsed": false
   },
   "outputs": [
    {
     "name": "stdout",
     "output_type": "stream",
     "text": [
      "[(1, 2, 6), (4/5, 3, 6), (8/7, 4, 6), (1, 5, 6), (4/5, 6, 6)]\n"
     ]
    }
   ],
   "source": [
    "#k = 2\n",
    "#poti do 6\n",
    "q=[]\n",
    "j = 6\n",
    "for i in range(2, 7):\n",
    "    q.append((graf(G[i], G[j], 2), i, j))\n",
    "        \n",
    "print q"
   ]
  },
  {
   "cell_type": "code",
   "execution_count": 23,
   "metadata": {
    "collapsed": false
   },
   "outputs": [
    {
     "name": "stdout",
     "output_type": "stream",
     "text": [
      "[(3/2, 2, 7), (1, 3, 7), (12/7, 4, 7), (4/3, 5, 7), (12/11, 6, 7), (3/2, 7, 7)]"
     ]
    },
    {
     "name": "stdout",
     "output_type": "stream",
     "text": [
      "\n"
     ]
    }
   ],
   "source": [
    "#k = 2\n",
    "#poti do 7\n",
    "q=[]\n",
    "j = 7\n",
    "for i in range(2, 8):\n",
    "    q.append((graf(G[i], G[j], 2), i, j))\n",
    "print q"
   ]
  },
  {
   "cell_type": "code",
   "execution_count": 24,
   "metadata": {
    "collapsed": false
   },
   "outputs": [
    {
     "name": "stdout",
     "output_type": "stream",
     "text": [
      "[(6/5, 2, 8), (6/7, 3, 8), (3/2, 4, 8), (12/11, 5, 8), (1, 6, 8), (9/7, 7, 8), (9/8, 8, 8)]\n"
     ]
    }
   ],
   "source": [
    "#k = 2\n",
    "#poti do 8\n",
    "q=[]\n",
    "j = 8\n",
    "for i in range(2, 9):\n",
    "    q.append((graf(G[i], G[j], 2), i, j))\n",
    "print q"
   ]
  },
  {
   "cell_type": "code",
   "execution_count": 25,
   "metadata": {
    "collapsed": false
   },
   "outputs": [
    {
     "name": "stdout",
     "output_type": "stream",
     "text": [
      "[(6/5, 2, 9), (6/7, 3, 9), (6/5, 4, 9), (1, 5, 9), (6/7, 6, 9), (9/8, 7, 9), (1, 8, 9), (9/10, 9, 9)]\n"
     ]
    }
   ],
   "source": [
    "#k = 2\n",
    "#poti do 9\n",
    "q=[]\n",
    "j = 9\n",
    "for i in range(2, 10):\n",
    "    q.append((graf(G[i], G[j], 2), i, j))\n",
    "print q"
   ]
  },
  {
   "cell_type": "code",
   "execution_count": 27,
   "metadata": {
    "collapsed": false
   },
   "outputs": [
    {
     "name": "stdout",
     "output_type": "stream",
     "text": [
      "[(4/3, 2, 10), (1, 3, 10), (8/5, 4, 10), (16/13, 5, 10), (1, 6, 10), (24/17, 7, 10), (6/5, 8, 10), (12/11, 9, 10), (4/3, 10, 10)]\n"
     ]
    }
   ],
   "source": [
    "#k = 2\n",
    "#poti do 10\n",
    "q=[]\n",
    "j = 10\n",
    "for i in range(2, 11):\n",
    "    q.append((graf(G[i], G[j], 2), i, j))\n",
    "print q"
   ]
  },
  {
   "cell_type": "code",
   "execution_count": 31,
   "metadata": {
    "collapsed": false
   },
   "outputs": [
    {
     "name": "stdout",
     "output_type": "stream",
     "text": [
      "[(4/3, 2, 11), (8/9, 3, 11), (16/11, 4, 11), (8/7, 5, 11), (16/17, 6, 11), (24/19, 7, 11), (12/11, 8, 11), (1, 9, 11), (32/27, 10, 11), (32/29, 11, 11)]\n"
     ]
    }
   ],
   "source": [
    "#k = 2\n",
    "#poti do 11\n",
    "q=[]\n",
    "j = 11\n",
    "for i in range(2, 12):\n",
    "    q.append((graf(G[i], G[j], 2), i, j))\n",
    "print q"
   ]
  },
  {
   "cell_type": "code",
   "execution_count": 5,
   "metadata": {
    "collapsed": false
   },
   "outputs": [
   ],
   "source": [
    "#k = 2\n",
    "#poti do 12\n",
    "q=[]\n",
    "j = 12\n",
    "for i in range(2, 13):\n",
    "    print((graf(G[i], G[j], 2), i, j))"
   ]
  },
  {
   "cell_type": "code",
   "execution_count": 7,
   "metadata": {
    "collapsed": false,
    "scrolled": true
   },
   "outputs": [
    {
     "name": "stdout",
     "output_type": "stream",
     "text": [
      "(2, 1, 1)\n",
      "(2, 1, 2)\n",
      "(2, 1, 3)\n",
      "(2, 1, 4)\n",
      "(2, 1, 5)\n",
      "(2, 1, 6)\n",
      "(2, 1, 7)\n",
      "(2, 1, 8)\n",
      "(2, 1, 9)\n",
      "(1, 2, 2)\n",
      "(6/5, 2, 3)\n",
      "(4/3, 2, 4)\n",
      "(5/4, 2, 5)\n",
      "(4/3, 2, 6)\n",
      "(6/5, 2, 7)"
     ]
    },
    {
     "name": "stdout",
     "output_type": "stream",
     "text": [
      "\n",
      "(7/6, 2, 8)\n",
      "(16/13, 2, 9)\n",
      "(9/7, 3, 3)\n",
      "(3/2, 3, 4)\n",
      "(15/11, 3, 5)\n",
      "(18/13, 3, 6)\n",
      "(9/7, 3, 7)\n",
      "(21/16, 3, 8)\n"
     ]
    },
    {
     "name": "stdout",
     "output_type": "stream",
     "text": [
      "(4/3, 3, 9)\n",
      "(4/3, 4, 4)\n",
      "(20/13, 4, 5)\n",
      "(3/2, 4, 6)\n",
      "(4/3, 4, 7)\n",
      "(4/3, 4, 8)\n",
      "(32/23, 4, 9)\n",
      "(25/17, 5, 5)\n"
     ]
    },
    {
     "name": "stdout",
     "output_type": "stream",
     "text": [
      "(3/2, 5, 6)\n",
      "(15/11, 5, 7)\n",
      "(35/26, 5, 8)\n",
      "(40/29, 5, 9)\n"
     ]
    },
    {
     "name": "stdout",
     "output_type": "stream",
     "text": [
      "(3/2, 6, 6)\n",
      "(9/7, 6, 7)\n",
      "(42/31, 6, 8)\n"
     ]
    },
    {
     "name": "stdout",
     "output_type": "stream",
     "text": [
      "(48/35, 6, 9)\n",
      "(36/31, 7, 7)\n",
      "(7/6, 7, 8)\n"
     ]
    }
   ],
   "source": [
    "#k = 3\n",
    "#do 9 vozlišč\n",
    "for i in range(1, 10):\n",
    "    for j in range(i, 10):\n",
    "            print(graf(G[i], G[j], 3), i, j)\n",
    "#za 8 krat 8 je potreboval 12 ur"
   ]
  },
  {
   "cell_type": "code",
   "execution_count": 5,
   "metadata": {
    "collapsed": false
   },
   "outputs": [
   ],
   "source": [
    "#k = 4\n",
    "q=[]\n",
    "for i in range(2, 8):\n",
    "    q.append((graf(G[i], G[7], 4), i))\n",
    "    print(graf(G[i], G[7], 4), i)\n",
    "print q"
   ]
  },
  {
   "cell_type": "code",
   "execution_count": 10,
   "metadata": {
    "collapsed": false
   },
   "outputs": [
    {
     "name": "stdout",
     "output_type": "stream",
     "text": [
      "(1, 2, 2)\n",
      "(1, 2, 3)\n"
     ]
    },
    {
     "name": "stdout",
     "output_type": "stream",
     "text": [
      "(1, 2, 4)\n",
      "(1, 2, 5)\n",
      "(1, 3, 3)\n",
      "(1, 3, 4)\n"
     ]
    },
    {
     "name": "stdout",
     "output_type": "stream",
     "text": [
      "(15/13, 3, 5)\n",
      "(8/7, 4, 4)\n"
     ]
    },
    {
     "name": "stdout",
     "output_type": "stream",
     "text": [
      "(10/9, 4, 5)\n",
      "(25/22, 5, 5)\n",
      "[(1, 2, 2), (1, 2, 3), (1, 2, 4), (1, 2, 5), (1, 3, 3), (1, 3, 4), (15/13, 3, 5), (8/7, 4, 4), (10/9, 4, 5), (25/22, 5, 5)]\n"
     ]
    }
   ],
   "source": [
    "#k = 5\n",
    "q=[]\n",
    "for i in range(2, 6):\n",
    "    for j in range(i, 6):\n",
    "        q.append((graf(G[i], G[j], 5), i,j))\n",
    "        print(graf(G[i], G[j], 5), i,j)\n",
    "print q"
   ]
  },
  {
   "cell_type": "code",
   "execution_count": 12,
   "metadata": {
    "collapsed": false
   },
   "outputs": [
    {
     "name": "stdout",
     "output_type": "stream",
     "text": [
      "(1, 2, 2)\n"
     ]
    },
    {
     "name": "stdout",
     "output_type": "stream",
     "text": [
      "(1, 2, 3)\n"
     ]
    },
    {
     "name": "stdout",
     "output_type": "stream",
     "text": [
      "(1, 2, 4)\n"
     ]
    },
    {
     "name": "stdout",
     "output_type": "stream",
     "text": [
      "(1, 3, 3)\n",
      "(1, 3, 4)\n"
     ]
    },
    {
     "name": "stdout",
     "output_type": "stream",
     "text": [
      "(1, 4, 4)\n",
      "[(1, 2, 2), (1, 2, 3), (1, 2, 4), (1, 3, 3), (1, 3, 4), (1, 4, 4)]\n"
     ]
    }
   ],
   "source": [
    "#k = 6\n",
    "q=[]\n",
    "for i in range(2, 5):\n",
    "    for j in range(i, 5):\n",
    "        q.append((graf(G[i], G[j], 6), i,j))\n",
    "        print(graf(G[i], G[j], 6), i,j)\n",
    "print q"
   ]
  },
  {
   "cell_type": "code",
   "execution_count": 5,
   "metadata": {
    "collapsed": false
   },
   "outputs": [
    {
     "name": "stdout",
     "output_type": "stream",
     "text": [
      "(1, 2, 2)\n"
     ]
    },
    {
     "name": "stdout",
     "output_type": "stream",
     "text": [
      "(1, 2, 3)\n",
      "(1, 2, 4)\n",
      "(1, 3, 3)\n",
      "(1, 3, 4)\n"
     ]
    },
    {
     "name": "stdout",
     "output_type": "stream",
     "text": [
      "(1, 4, 4)\n",
      "[(1, 2, 2), (1, 2, 3), (1, 2, 4), (1, 3, 3), (1, 3, 4), (1, 4, 4)]\n"
     ]
    }
   ],
   "source": [
    "#k = 7\n",
    "q=[]\n",
    "for i in range(2, 5):\n",
    "    for j in range(i, 5):\n",
    "        q.append((graf(G[i], G[j], 7), i,j))\n",
    "        print(graf(G[i], G[j], 7), i,j)\n",
    "print q"
   ]
  },
  {
   "cell_type": "code",
   "execution_count": 0,
   "metadata": {
    "collapsed": false,
    "scrolled": true
   },
   "outputs": [
   ],
   "source": [
    "#kartezijski dveh poti bo nastala n*m mreža, zato bo krt za večje od n-poti enak kar n*m\n",
    "#ne splača se gledat za velike k, n in m, ker bo enako 1 !!!\n",
    "G[4].cartesian_product(G[5]).show()"
   ]
  },
  {
   "cell_type": "code",
   "execution_count": 0,
   "metadata": {
    "collapsed": false
   },
   "outputs": [
   ],
   "source": [
    "#če je 2-poln graf, dobimo lestve in krt kartezijskega produkta s potjo je [2,2,2, 4,4,4, 6,6,6, ...]\n",
    "#pri 3-polnem grafu je krt kartezičnega s potjo [2,2, 3,4,5, 6,6, 7,8,9, 10,10, 11,12,13, 14,14, ...]\n",
    "#pri 4-polnem in naprej pa krt kartezičnega produkta narašča konstantno za 1 -> [2,2,3,4,5,6,7,8,...]\n",
    "#pri 3-polnem in naprej je pri kartezijskem s potjo v resnici 3-dimenzionalna lestev\n",
    "\n",
    "graphs.CompleteGraph(100).cartesian_product(G[4]).show()"
   ]
  },
  {
   "cell_type": "code",
   "execution_count": 5,
   "metadata": {
    "collapsed": false
   },
   "outputs": [
    {
     "name": "stdout",
     "output_type": "stream",
     "text": [
      "2\n",
      "2\n",
      "2\n",
      "2\n",
      "1\n"
     ]
    },
    {
     "name": "stdout",
     "output_type": "stream",
     "text": [
      "1\n",
      "1\n",
      "1\n",
      "1\n",
      "1\n"
     ]
    }
   ],
   "source": [
    "for i in range(1,5):\n",
    "    for j in range(i, 6):\n",
    "        print(graf(G[i], G[j],6))"
   ]
  },
  {
   "cell_type": "code",
   "execution_count": 8,
   "metadata": {
    "collapsed": false,
    "scrolled": true
   },
   "outputs": [
    {
     "name": "stdout",
     "output_type": "stream",
     "text": [
      "1\n",
      "1\n",
      "1\n",
      "1"
     ]
    },
    {
     "name": "stdout",
     "output_type": "stream",
     "text": [
      "\n"
     ]
    },
    {
     "name": "stdout",
     "output_type": "stream",
     "text": [
      "1\n",
      "1\n",
      "1\n"
     ]
    }
   ],
   "source": [
    "for i in range(2,6):\n",
    "    for j in range(i, 6):\n",
    "        print(graf(G[i], G[j],8))"
   ]
  },
  {
   "cell_type": "code",
   "execution_count": 10,
   "metadata": {
    "collapsed": false
   },
   "outputs": [
    {
     "data": {
      "text/plain": [
       "25/23"
      ]
     },
     "execution_count": 10,
     "metadata": {
     },
     "output_type": "execute_result"
    }
   ],
   "source": [
    "graf(G[5], G[5], 6)"
   ]
  },
  {
   "cell_type": "code",
   "execution_count": 9,
   "metadata": {
    "collapsed": false
   },
   "outputs": [
    {
     "data": {
      "text/plain": [
       "21/20"
      ]
     },
     "execution_count": 9,
     "metadata": {
     },
     "output_type": "execute_result"
    }
   ],
   "source": [
    "graf(G[3], G[7], 6)"
   ]
  },
  {
   "cell_type": "code",
   "execution_count": 13,
   "metadata": {
    "collapsed": false
   },
   "outputs": [
    {
     "name": "stdout",
     "output_type": "stream",
     "text": [
      "1\n",
      "9/7\n"
     ]
    },
    {
     "name": "stdout",
     "output_type": "stream",
     "text": [
      "21/17\n"
     ]
    }
   ],
   "source": [
    "for i in range(2, 10):\n",
    "    print(graf(G[3], G[7], i))"
   ]
  }
 ],
 "metadata": {
  "kernelspec": {
   "display_name": "SageMath (stable)",
   "language": "sagemath",
   "metadata": {
    "cocalc": {
     "description": "Open-source mathematical software system",
     "priority": 10,
     "url": "https://www.sagemath.org/"
    }
   },
   "name": "sagemath"
  },
  "language_info": {
   "codemirror_mode": {
    "name": "ipython",
    "version": 2
   },
   "file_extension": ".py",
   "mimetype": "text/x-python",
   "name": "python",
   "nbconvert_exporter": "python",
   "pygments_lexer": "ipython2",
   "version": "2.7.15"
  }
 },
 "nbformat": 4,
 "nbformat_minor": 0
}